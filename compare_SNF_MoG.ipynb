{
  "nbformat": 4,
  "nbformat_minor": 0,
  "metadata": {
    "colab": {
      "name": "SFNsipynb",
      "provenance": [],
      "collapsed_sections": [
        "HxpTtT39vjme",
        "ki415udbcZ8r"
      ]
    },
    "kernelspec": {
      "name": "python3",
      "display_name": "Python 3"
    },
    "language_info": {
      "name": "python"
    }
  },
  "cells": [
    {
      "cell_type": "markdown",
      "metadata": {
        "id": "b8-uB0g0iVaH"
      },
      "source": [
        "# Testing SFNs\n",
        "We follow the code from https://github.com/noegroup/stochastic_normalizing_flows/blob/main/experiment1_doublewell.ipynb"
      ]
    },
    {
      "cell_type": "markdown",
      "metadata": {
        "id": "vJeeC_vDkpqL"
      },
      "source": [
        "# Setup"
      ]
    },
    {
      "cell_type": "markdown",
      "metadata": {
        "id": "HxpTtT39vjme"
      },
      "source": [
        "## Setup Library"
      ]
    },
    {
      "cell_type": "code",
      "metadata": {
        "colab": {
          "base_uri": "https://localhost:8080/"
        },
        "id": "EezLugqNhYuv",
        "outputId": "c40ba97c-81d9-42b9-af0e-10a49133e6da"
      },
      "source": [
        "from google.colab import drive\n",
        "drive.mount('/content/drive', force_remount=True)"
      ],
      "execution_count": 1,
      "outputs": [
        {
          "output_type": "stream",
          "name": "stdout",
          "text": [
            "Mounted at /content/drive\n"
          ]
        }
      ]
    },
    {
      "cell_type": "code",
      "metadata": {
        "colab": {
          "base_uri": "https://localhost:8080/"
        },
        "id": "i5nnb19ThRNw",
        "outputId": "a2b4aa36-bd42-42e8-df45-f36b83e7adbc"
      },
      "source": [
        "!rm -r stochastic_normalizing_flows\n",
        "!git clone https://github.com/noegroup/stochastic_normalizing_flows"
      ],
      "execution_count": 2,
      "outputs": [
        {
          "output_type": "stream",
          "name": "stdout",
          "text": [
            "rm: cannot remove 'stochastic_normalizing_flows': No such file or directory\n",
            "Cloning into 'stochastic_normalizing_flows'...\n",
            "remote: Enumerating objects: 147, done.\u001b[K\n",
            "remote: Counting objects: 100% (147/147), done.\u001b[K\n",
            "remote: Compressing objects: 100% (128/128), done.\u001b[K\n",
            "remote: Total 147 (delta 17), reused 136 (delta 11), pack-reused 0\u001b[K\n",
            "Receiving objects: 100% (147/147), 12.69 MiB | 28.13 MiB/s, done.\n",
            "Resolving deltas: 100% (17/17), done.\n"
          ]
        }
      ]
    },
    {
      "cell_type": "code",
      "metadata": {
        "colab": {
          "base_uri": "https://localhost:8080/"
        },
        "id": "UCTSlvawRuji",
        "outputId": "5aa83b45-749a-4030-9255-c5e0d91ebafd"
      },
      "source": [
        "!pip install nflows"
      ],
      "execution_count": 21,
      "outputs": [
        {
          "output_type": "stream",
          "name": "stdout",
          "text": [
            "Collecting nflows\n",
            "  Downloading nflows-0.14.tar.gz (45 kB)\n",
            "\u001b[K     |████████████████████████████████| 45 kB 1.6 MB/s \n",
            "\u001b[?25hRequirement already satisfied: matplotlib in /usr/local/lib/python3.7/dist-packages (from nflows) (3.2.2)\n",
            "Requirement already satisfied: numpy in /usr/local/lib/python3.7/dist-packages (from nflows) (1.19.5)\n",
            "Requirement already satisfied: tensorboard in /usr/local/lib/python3.7/dist-packages (from nflows) (2.6.0)\n",
            "Requirement already satisfied: torch in /usr/local/lib/python3.7/dist-packages (from nflows) (1.9.0+cu111)\n",
            "Requirement already satisfied: tqdm in /usr/local/lib/python3.7/dist-packages (from nflows) (4.62.3)\n",
            "Requirement already satisfied: cycler>=0.10 in /usr/local/lib/python3.7/dist-packages (from matplotlib->nflows) (0.10.0)\n",
            "Requirement already satisfied: kiwisolver>=1.0.1 in /usr/local/lib/python3.7/dist-packages (from matplotlib->nflows) (1.3.2)\n",
            "Requirement already satisfied: python-dateutil>=2.1 in /usr/local/lib/python3.7/dist-packages (from matplotlib->nflows) (2.8.2)\n",
            "Requirement already satisfied: pyparsing!=2.0.4,!=2.1.2,!=2.1.6,>=2.0.1 in /usr/local/lib/python3.7/dist-packages (from matplotlib->nflows) (2.4.7)\n",
            "Requirement already satisfied: six in /usr/local/lib/python3.7/dist-packages (from cycler>=0.10->matplotlib->nflows) (1.15.0)\n",
            "Requirement already satisfied: requests<3,>=2.21.0 in /usr/local/lib/python3.7/dist-packages (from tensorboard->nflows) (2.23.0)\n",
            "Requirement already satisfied: absl-py>=0.4 in /usr/local/lib/python3.7/dist-packages (from tensorboard->nflows) (0.12.0)\n",
            "Requirement already satisfied: google-auth<2,>=1.6.3 in /usr/local/lib/python3.7/dist-packages (from tensorboard->nflows) (1.35.0)\n",
            "Requirement already satisfied: grpcio>=1.24.3 in /usr/local/lib/python3.7/dist-packages (from tensorboard->nflows) (1.41.0)\n",
            "Requirement already satisfied: markdown>=2.6.8 in /usr/local/lib/python3.7/dist-packages (from tensorboard->nflows) (3.3.4)\n",
            "Requirement already satisfied: setuptools>=41.0.0 in /usr/local/lib/python3.7/dist-packages (from tensorboard->nflows) (57.4.0)\n",
            "Requirement already satisfied: tensorboard-data-server<0.7.0,>=0.6.0 in /usr/local/lib/python3.7/dist-packages (from tensorboard->nflows) (0.6.1)\n",
            "Requirement already satisfied: tensorboard-plugin-wit>=1.6.0 in /usr/local/lib/python3.7/dist-packages (from tensorboard->nflows) (1.8.0)\n",
            "Requirement already satisfied: werkzeug>=0.11.15 in /usr/local/lib/python3.7/dist-packages (from tensorboard->nflows) (1.0.1)\n",
            "Requirement already satisfied: google-auth-oauthlib<0.5,>=0.4.1 in /usr/local/lib/python3.7/dist-packages (from tensorboard->nflows) (0.4.6)\n",
            "Requirement already satisfied: wheel>=0.26 in /usr/local/lib/python3.7/dist-packages (from tensorboard->nflows) (0.37.0)\n",
            "Requirement already satisfied: protobuf>=3.6.0 in /usr/local/lib/python3.7/dist-packages (from tensorboard->nflows) (3.17.3)\n",
            "Requirement already satisfied: rsa<5,>=3.1.4 in /usr/local/lib/python3.7/dist-packages (from google-auth<2,>=1.6.3->tensorboard->nflows) (4.7.2)\n",
            "Requirement already satisfied: cachetools<5.0,>=2.0.0 in /usr/local/lib/python3.7/dist-packages (from google-auth<2,>=1.6.3->tensorboard->nflows) (4.2.4)\n",
            "Requirement already satisfied: pyasn1-modules>=0.2.1 in /usr/local/lib/python3.7/dist-packages (from google-auth<2,>=1.6.3->tensorboard->nflows) (0.2.8)\n",
            "Requirement already satisfied: requests-oauthlib>=0.7.0 in /usr/local/lib/python3.7/dist-packages (from google-auth-oauthlib<0.5,>=0.4.1->tensorboard->nflows) (1.3.0)\n",
            "Requirement already satisfied: importlib-metadata in /usr/local/lib/python3.7/dist-packages (from markdown>=2.6.8->tensorboard->nflows) (4.8.1)\n",
            "Requirement already satisfied: pyasn1<0.5.0,>=0.4.6 in /usr/local/lib/python3.7/dist-packages (from pyasn1-modules>=0.2.1->google-auth<2,>=1.6.3->tensorboard->nflows) (0.4.8)\n",
            "Requirement already satisfied: chardet<4,>=3.0.2 in /usr/local/lib/python3.7/dist-packages (from requests<3,>=2.21.0->tensorboard->nflows) (3.0.4)\n",
            "Requirement already satisfied: urllib3!=1.25.0,!=1.25.1,<1.26,>=1.21.1 in /usr/local/lib/python3.7/dist-packages (from requests<3,>=2.21.0->tensorboard->nflows) (1.24.3)\n",
            "Requirement already satisfied: certifi>=2017.4.17 in /usr/local/lib/python3.7/dist-packages (from requests<3,>=2.21.0->tensorboard->nflows) (2021.5.30)\n",
            "Requirement already satisfied: idna<3,>=2.5 in /usr/local/lib/python3.7/dist-packages (from requests<3,>=2.21.0->tensorboard->nflows) (2.10)\n",
            "Requirement already satisfied: oauthlib>=3.0.0 in /usr/local/lib/python3.7/dist-packages (from requests-oauthlib>=0.7.0->google-auth-oauthlib<0.5,>=0.4.1->tensorboard->nflows) (3.1.1)\n",
            "Requirement already satisfied: typing-extensions>=3.6.4 in /usr/local/lib/python3.7/dist-packages (from importlib-metadata->markdown>=2.6.8->tensorboard->nflows) (3.7.4.3)\n",
            "Requirement already satisfied: zipp>=0.5 in /usr/local/lib/python3.7/dist-packages (from importlib-metadata->markdown>=2.6.8->tensorboard->nflows) (3.6.0)\n",
            "Building wheels for collected packages: nflows\n",
            "  Building wheel for nflows (setup.py) ... \u001b[?25l\u001b[?25hdone\n",
            "  Created wheel for nflows: filename=nflows-0.14-py3-none-any.whl size=53671 sha256=ec4793f39c669fe51fb2349e046e351bd0a6e1d08c2aca38fa66b2ca3d0c6f0d\n",
            "  Stored in directory: /root/.cache/pip/wheels/c0/b6/52/0092eedabce8f7faa35b92522393fbdc1ec5ede99b0ec820d5\n",
            "Successfully built nflows\n",
            "Installing collected packages: nflows\n",
            "Successfully installed nflows-0.14\n"
          ]
        }
      ]
    },
    {
      "cell_type": "code",
      "metadata": {
        "colab": {
          "base_uri": "https://localhost:8080/"
        },
        "id": "rhW8JqY2hfNq",
        "outputId": "d93bec03-9e8e-499e-ccc9-9d5aeb8dd97a"
      },
      "source": [
        "import os\n",
        "os.listdir()"
      ],
      "execution_count": 3,
      "outputs": [
        {
          "output_type": "execute_result",
          "data": {
            "text/plain": [
              "['.config', 'drive', 'stochastic_normalizing_flows', 'sample_data']"
            ]
          },
          "metadata": {},
          "execution_count": 3
        }
      ]
    },
    {
      "cell_type": "code",
      "metadata": {
        "id": "ezDqLz1Vju7x"
      },
      "source": [
        "os.chdir(\"stochastic_normalizing_flows\")"
      ],
      "execution_count": 4,
      "outputs": []
    },
    {
      "cell_type": "code",
      "metadata": {
        "colab": {
          "base_uri": "https://localhost:8080/"
        },
        "id": "wZ11rlIa6HIU",
        "outputId": "9415f13f-a745-461a-f5d9-b21d1ea39fd0"
      },
      "source": [
        "!cd bgtorch && python setup.py develop && cd ..\n",
        "!cd snf_code && python setup.py develop && cd .."
      ],
      "execution_count": 5,
      "outputs": [
        {
          "output_type": "stream",
          "name": "stdout",
          "text": [
            "running develop\n",
            "running egg_info\n",
            "creating bgtorch.egg-info\n",
            "writing bgtorch.egg-info/PKG-INFO\n",
            "writing dependency_links to bgtorch.egg-info/dependency_links.txt\n",
            "writing top-level names to bgtorch.egg-info/top_level.txt\n",
            "writing manifest file 'bgtorch.egg-info/SOURCES.txt'\n",
            "writing manifest file 'bgtorch.egg-info/SOURCES.txt'\n",
            "running build_ext\n",
            "Creating /usr/local/lib/python3.7/dist-packages/bgtorch.egg-link (link to .)\n",
            "Adding bgtorch 0.1 to easy-install.pth file\n",
            "\n",
            "Installed /content/stochastic_normalizing_flows/bgtorch\n",
            "Processing dependencies for bgtorch==0.1\n",
            "Finished processing dependencies for bgtorch==0.1\n",
            "running develop\n",
            "running egg_info\n",
            "writing snf_code.egg-info/PKG-INFO\n",
            "writing dependency_links to snf_code.egg-info/dependency_links.txt\n",
            "writing top-level names to snf_code.egg-info/top_level.txt\n",
            "writing manifest file 'snf_code.egg-info/SOURCES.txt'\n",
            "running build_ext\n",
            "Creating /usr/local/lib/python3.7/dist-packages/snf-code.egg-link (link to .)\n",
            "Adding snf-code 0.1 to easy-install.pth file\n",
            "\n",
            "Installed /content/stochastic_normalizing_flows/snf_code\n",
            "Processing dependencies for snf-code==0.1\n",
            "Finished processing dependencies for snf-code==0.1\n"
          ]
        }
      ]
    },
    {
      "cell_type": "markdown",
      "metadata": {
        "id": "7ZeQHd1Ovfsf"
      },
      "source": [
        "## Setup problem"
      ]
    },
    {
      "cell_type": "markdown",
      "metadata": {
        "id": "grWNpMOQQGGv"
      },
      "source": [
        "After running the above setups, reload the notebook. Then proceed below"
      ]
    },
    {
      "cell_type": "code",
      "metadata": {
        "id": "II3qv2ajviQo"
      },
      "source": [
        "import torch\n",
        "torch.set_default_dtype(torch.float64)\n",
        "from bgtorch.utils.types import assert_numpy"
      ],
      "execution_count": 5,
      "outputs": []
    },
    {
      "cell_type": "code",
      "metadata": {
        "id": "D0AotqPmRTRB"
      },
      "source": [
        "from bgtorch.nn.training import KLTrainer"
      ],
      "execution_count": 6,
      "outputs": []
    },
    {
      "cell_type": "code",
      "metadata": {
        "id": "UHmy3TJ9vnVT"
      },
      "source": [
        "from bgtorch.nn import DenseNet\n",
        "from bgtorch.nn.flow import (\n",
        "    SequentialFlow, \n",
        "    CouplingFlow, \n",
        "    AffineFlow, \n",
        "    SplitFlow,\n",
        "    MergeFlow,\n",
        "    InverseFlow, \n",
        "    SwapFlow\n",
        ")\n",
        "from bgtorch.nn.flow.transformer import AffineTransformer"
      ],
      "execution_count": 7,
      "outputs": []
    },
    {
      "cell_type": "code",
      "metadata": {
        "id": "Umt71Otevpsj"
      },
      "source": [
        "from bgtorch import BoltzmannGenerator"
      ],
      "execution_count": 8,
      "outputs": []
    },
    {
      "cell_type": "code",
      "metadata": {
        "id": "DeBSoShfvr5_"
      },
      "source": [
        "import numpy as np\n",
        "from matplotlib import pyplot as plt\n",
        "import matplotlib as mpl"
      ],
      "execution_count": 9,
      "outputs": []
    },
    {
      "cell_type": "code",
      "metadata": {
        "id": "QJLPjguuvt77"
      },
      "source": [
        "plt.rcParams.update({'font.size': 16})"
      ],
      "execution_count": 10,
      "outputs": []
    },
    {
      "cell_type": "code",
      "metadata": {
        "id": "-adVQQywwbw0"
      },
      "source": [
        "from bgtorch.distribution import NormalDistribution"
      ],
      "execution_count": 11,
      "outputs": []
    },
    {
      "cell_type": "code",
      "metadata": {
        "id": "HPSm2QrTRZ6R"
      },
      "source": [
        "from snf_code import InterpolatedEnergy, RNVP, boltzmann_generator_RNVP_MC\n",
        "from snf_code.analysis import sample_energy, statistical_efficiency\n",
        "from snf_code.imagetools import boltzmann_generator_NSF_MC"
      ],
      "execution_count": 12,
      "outputs": []
    },
    {
      "cell_type": "code",
      "metadata": {
        "id": "WSq4suuhwk__"
      },
      "source": [
        "def sample_flow(flow, x0, inverse=False):\n",
        "    blocks = flow._blocks\n",
        "    samples = [x0]\n",
        "    x = [x0]\n",
        "    if inverse:\n",
        "        blocks = blocks[::-1]\n",
        "    for block in blocks:\n",
        "        *x, ddlogp = block(*x, inverse=inverse)\n",
        "        if not (isinstance(block, SplitFlow) or isinstance(block, SwapFlow) or isinstance(block, MergeFlow)):\n",
        "            #print(block)\n",
        "            x_np = [xi.detach().numpy() for xi in x]\n",
        "            samples.append(np.hstack(x_np))\n",
        "    if inverse:\n",
        "        samples = samples[::-1]\n",
        "    return samples"
      ],
      "execution_count": 13,
      "outputs": []
    },
    {
      "cell_type": "markdown",
      "metadata": {
        "id": "Pk3qrIMIb3Rk"
      },
      "source": [
        "# MoG Problem"
      ]
    },
    {
      "cell_type": "markdown",
      "metadata": {
        "id": "ki415udbcZ8r"
      },
      "source": [
        "## Problem defn"
      ]
    },
    {
      "cell_type": "code",
      "metadata": {
        "id": "YUzi2sdTdEHN"
      },
      "source": [
        "def quadratic_function(x, seed=0):\n",
        "    # example function that we may want to calculate expectations over\n",
        "    torch.manual_seed(seed)\n",
        "    x_shift = 2*torch.randn(x.shape[-1]).to(x.device)\n",
        "    A = 2*torch.rand((x.shape[-1], x.shape[-1])).to(x.device)\n",
        "    b = torch.rand(x.shape[-1]).to(x.device)\n",
        "    x = x + x_shift\n",
        "    return torch.einsum(\"bi,ij,bj->b\", x, A, x) + torch.einsum(\"i,bi->b\", b, x)"
      ],
      "execution_count": 17,
      "outputs": []
    },
    {
      "cell_type": "code",
      "metadata": {
        "id": "nfBs23ggcZN6"
      },
      "source": [
        "class MoG(torch.nn.Module):\n",
        "    # mog with random mean and var\n",
        "    def __init__(self, dim : int =2, n_mixes: int =5,\n",
        "                 min_cov: float=0.5, loc_scaling: float=3.0, diagonal_covariance=True,\n",
        "                 cov_scaling=1.0, uniform_component_probs = False):\n",
        "        super(MoG, self).__init__()\n",
        "        self.dim = dim\n",
        "        self.n_mixes = n_mixes\n",
        "        self.distributions = []\n",
        "        locs = []\n",
        "        scale_trils = []\n",
        "        for i in range(n_mixes):\n",
        "            loc = torch.randn(dim)*loc_scaling\n",
        "            if diagonal_covariance:\n",
        "                scale_tril = torch.diag(torch.rand(dim)*cov_scaling + min_cov)\n",
        "            else:\n",
        "                # https://stackoverflow.com/questions/58176501/how-do-you-generate-positive-definite-matrix-in-pytorch\n",
        "                Sigma_k = torch.rand(dim, dim) * cov_scaling + min_cov\n",
        "                Sigma_k = torch.mm(Sigma_k, Sigma_k.t())\n",
        "                Sigma_k.add_(torch.eye(dim))\n",
        "                scale_tril = torch.tril(Sigma_k)\n",
        "            locs.append(loc[None, :])\n",
        "            scale_trils.append(scale_tril[None, :, :])\n",
        "\n",
        "        locs = torch.cat(locs)\n",
        "        scale_trils = torch.cat(scale_trils)\n",
        "        if uniform_component_probs:\n",
        "             self.register_buffer(\"cat_probs\", torch.ones(n_mixes))\n",
        "        else:\n",
        "            self.register_buffer(\"cat_probs\", torch.rand(n_mixes))\n",
        "        self.register_buffer(\"locs\", locs)\n",
        "        self.register_buffer(\"scale_trils\", scale_trils)\n",
        "        self.distribution = self.get_distribution\n",
        "        self.expectation_function = quadratic_function\n",
        "        #self.true_expectation = MC_estimate_true_expectation(self, self.expectation_function, int(1e6)).item()\n",
        "        #print(f\"true expectation is {self.true_expectation}\")\n",
        "\n",
        "    def to(self, device):\n",
        "        super(MoG, self).to(device)\n",
        "        self.distribution = self.get_distribution\n",
        "\n",
        "    @property\n",
        "    def get_distribution(self):\n",
        "        mix = torch.distributions.Categorical(self.cat_probs)\n",
        "        com = torch.distributions.MultivariateNormal(self.locs, scale_tril=self.scale_trils)\n",
        "        return torch.distributions.MixtureSameFamily(mixture_distribution=mix, component_distribution=com)\n",
        "\n",
        "    def log_prob(self, x: torch.Tensor):\n",
        "        return self.distribution.log_prob(x)\n",
        "\n",
        "    def energy(self, x, temperature=None):\n",
        "      return - self.log_prob(x)[:, None]\n",
        "\n",
        "    def sample(self, shape=(1,)):\n",
        "        return self.distribution.sample(shape)\n",
        "\n",
        "    @torch.no_grad()\n",
        "    def performance_metrics(self, train_class, x_samples, log_w,\n",
        "                            n_batches_stat_aggregation=10):\n",
        "        samples_per_batch = x_samples.shape[0] // n_batches_stat_aggregation\n",
        "        expectations = []\n",
        "        for i, batch_number in enumerate(range(n_batches_stat_aggregation)):\n",
        "            if i != n_batches_stat_aggregation - 1:\n",
        "                log_w_batch = log_w[batch_number * samples_per_batch:(batch_number + 1) * samples_per_batch]\n",
        "                x_samples_batch = x_samples[batch_number * samples_per_batch:(batch_number + 1) * samples_per_batch]\n",
        "            else:\n",
        "                log_w_batch = log_w[batch_number * samples_per_batch:]\n",
        "                x_samples_batch = x_samples[batch_number * samples_per_batch:]\n",
        "            expectation = train_class.AIS_train.\\\n",
        "                estimate_expectation_given_samples_and_log_w(self.expectation_function,\n",
        "                                                             x_samples_batch, log_w_batch).item()\n",
        "            expectations.append(expectation)\n",
        "        bias_normed = np.abs(np.mean(expectations) - self.true_expectation) / self.true_expectation\n",
        "        std_normed = np.std(expectations) / self.true_expectation\n",
        "        summary_dict = {\"bias_normed\": bias_normed, \"std_normed\": std_normed}\n",
        "        long_dict = {}\n",
        "        return summary_dict, long_dict"
      ],
      "execution_count": 30,
      "outputs": []
    },
    {
      "cell_type": "markdown",
      "metadata": {
        "id": "wDY7z0r7eHBR"
      },
      "source": [
        "## Let's go"
      ]
    },
    {
      "cell_type": "code",
      "metadata": {
        "id": "gdrqOS6vcBmD"
      },
      "source": [
        "seed=2\n",
        "dim=2"
      ],
      "execution_count": 41,
      "outputs": []
    },
    {
      "cell_type": "code",
      "metadata": {
        "id": "mkMTsJGEbtwB"
      },
      "source": [
        "assert seed == 2\n",
        "assert dim == 2\n",
        "torch.set_default_dtype(torch.float64)\n",
        "torch.manual_seed(seed)\n",
        "target = MoG(dim=dim, n_mixes=5, min_cov=1, loc_scaling=10)"
      ],
      "execution_count": 42,
      "outputs": []
    },
    {
      "cell_type": "code",
      "metadata": {
        "colab": {
          "base_uri": "https://localhost:8080/",
          "height": 287
        },
        "id": "B3zYqqB-cvlb",
        "outputId": "e04dccf6-0901-4ea3-826b-db2d299e95c9"
      },
      "source": [
        "samples = target.sample((1000,)).detach().numpy()\n",
        "plt.plot(samples[:, 0], samples[:, 1], \"o\")"
      ],
      "execution_count": 43,
      "outputs": [
        {
          "output_type": "execute_result",
          "data": {
            "text/plain": [
              "[<matplotlib.lines.Line2D at 0x7fb6e4040810>]"
            ]
          },
          "metadata": {},
          "execution_count": 43
        },
        {
          "output_type": "display_data",
          "data": {
            "image/png": "[encoded data removed]",
            "text/plain": [
              "<Figure size 432x288 with 1 Axes>"
            ]
          },
          "metadata": {
            "needs_background": "light"
          }
        }
      ]
    },
    {
      "cell_type": "code",
      "metadata": {
        "colab": {
          "base_uri": "https://localhost:8080/"
        },
        "id": "fUYNdlNDe8s6",
        "outputId": "2e89cc34-f470-4d95-cfd0-c87cfdae3af8"
      },
      "source": [
        "target.energy(target.sample((100,))).shape"
      ],
      "execution_count": 44,
      "outputs": [
        {
          "output_type": "execute_result",
          "data": {
            "text/plain": [
              "torch.Size([100, 1])"
            ]
          },
          "metadata": {},
          "execution_count": 44
        }
      ]
    },
    {
      "cell_type": "code",
      "metadata": {
        "id": "3WqEJND2dXHL"
      },
      "source": [
        "prior = NormalDistribution(2)\n",
        "bg_unbiased_MC2 = boltzmann_generator_RNVP_MC(prior, target, n_transform=3, shift_nhidden=[64, 64], scale_nhidden=[64, 64],\n",
        "                                                 nrelax=20, stepsize=0.25, stochastic=True, diffuse_at_0=True)\n",
        "trainer = KLTrainer(bg_unbiased_MC2, train_likelihood=False, train_energy=True,\n",
        "                        optim=torch.optim.Adam(bg_unbiased_MC2.parameters(), lr=0.005))"
      ],
      "execution_count": 50,
      "outputs": []
    },
    {
      "cell_type": "code",
      "metadata": {
        "colab": {
          "base_uri": "https://localhost:8080/",
          "height": 287
        },
        "id": "jdZFy4ZjeONm",
        "outputId": "dee13b05-3fb9-4463-c184-662db788d462"
      },
      "source": [
        "samples = bg_unbiased_MC2.sample(1000).detach().numpy()\n",
        "plt.plot(samples[:, 0], samples[:, 1], \"or\")\n",
        "samples = target.sample((1000,)).detach().numpy()\n",
        "plt.plot(samples[:, 0], samples[:, 1], \"ob\")"
      ],
      "execution_count": 51,
      "outputs": [
        {
          "output_type": "execute_result",
          "data": {
            "text/plain": [
              "[<matplotlib.lines.Line2D at 0x7fb6e3fc9fd0>]"
            ]
          },
          "metadata": {},
          "execution_count": 51
        },
        {
          "output_type": "display_data",
          "data": {
            "image/png": "[encoded data removed]",
            "text/plain": [
              "<Figure size 432x288 with 1 Axes>"
            ]
          },
          "metadata": {
            "needs_background": "light"
          }
        }
      ]
    },
    {
      "cell_type": "code",
      "metadata": {
        "colab": {
          "base_uri": "https://localhost:8080/"
        },
        "id": "rN4RxJmVeRqI",
        "outputId": "17cc37c5-20b0-4e45-d431-e3069b951ea4"
      },
      "source": [
        "trainer.train(1000, data=None, batchsize=128, w_likelihood=0.0, w_energy=1.0, n_print=50)"
      ],
      "execution_count": 52,
      "outputs": [
        {
          "output_type": "stream",
          "name": "stdout",
          "text": [
            "1\tKLL: 7.3955\t\n",
            "51\tKLL: 3.7429\t\n",
            "101\tKLL: 3.7867\t\n",
            "151\tKLL: 3.7497\t\n",
            "201\tKLL: 3.7126\t\n",
            "251\tKLL: 3.8047\t\n",
            "301\tKLL: 3.4136\t\n",
            "351\tKLL: 3.8328\t\n",
            "401\tKLL: 3.7245\t\n",
            "451\tKLL: 3.6594\t\n",
            "501\tKLL: 3.4685\t\n",
            "551\tKLL: 3.5546\t\n",
            "601\tKLL: 3.5764\t\n",
            "651\tKLL: 3.6816\t\n",
            "701\tKLL: 3.5806\t\n",
            "751\tKLL: 3.5604\t\n",
            "801\tKLL: 3.6782\t\n",
            "851\tKLL: 3.7960\t\n",
            "901\tKLL: 3.5422\t\n",
            "951\tKLL: 3.7097\t\n"
          ]
        }
      ]
    },
    {
      "cell_type": "code",
      "metadata": {
        "colab": {
          "base_uri": "https://localhost:8080/",
          "height": 287
        },
        "id": "TANPjtUKf0Nc",
        "outputId": "1dd643ae-5264-42c7-9b9b-0c185aba2c98"
      },
      "source": [
        "samples = bg_unbiased_MC2.sample(1000).detach().numpy()\n",
        "plt.plot(samples[:, 0], samples[:, 1], \"or\")\n",
        "samples = target.sample((1000,)).detach().numpy()\n",
        "plt.plot(samples[:, 0], samples[:, 1], \"ob\")"
      ],
      "execution_count": 53,
      "outputs": [
        {
          "output_type": "execute_result",
          "data": {
            "text/plain": [
              "[<matplotlib.lines.Line2D at 0x7fb6e3dbe410>]"
            ]
          },
          "metadata": {},
          "execution_count": 53
        },
        {
          "output_type": "display_data",
          "data": {
            "image/png": "[encoded data removed]",
            "text/plain": [
              "<Figure size 432x288 with 1 Axes>"
            ]
          },
          "metadata": {
            "needs_background": "light"
          }
        }
      ]
    },
    {
      "cell_type": "code",
      "metadata": {
        "id": "8tNUBQruihsI"
      },
      "source": [
        ""
      ],
      "execution_count": null,
      "outputs": []
    }
  ]
}
