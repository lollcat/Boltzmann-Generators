{
 "cells": [
  {
   "cell_type": "code",
   "execution_count": 1,
   "id": "1e738a88",
   "metadata": {},
   "outputs": [],
   "source": [
    "import imageio\n",
    "import numpy as np"
   ]
  },
  {
   "cell_type": "code",
   "execution_count": 2,
   "id": "de94ecad",
   "metadata": {},
   "outputs": [],
   "source": [
    "from pathlib import Path\n",
    "import os\n",
    "cwd_path = Path.cwd(); set_path = str(cwd_path.parent.parent); os.chdir(set_path)"
   ]
  },
  {
   "cell_type": "code",
   "execution_count": 3,
   "id": "a7c70d24",
   "metadata": {},
   "outputs": [
    {
     "data": {
      "text/plain": [
       "['.git',\n",
       " '.gitignore',\n",
       " '.idea',\n",
       " 'AIS_train',\n",
       " 'FittedModels',\n",
       " 'ImportanceSampling',\n",
       " 'LikelihoodTrain',\n",
       " 'Miscellaneous',\n",
       " 'NormalisingFlow',\n",
       " 'Notebooks',\n",
       " 'README.md',\n",
       " 'TargetDistributions',\n",
       " 'Utils',\n",
       " '__pycache__']"
      ]
     },
     "execution_count": 3,
     "metadata": {},
     "output_type": "execute_result"
    }
   ],
   "source": [
    "os.listdir()"
   ]
  },
  {
   "cell_type": "code",
   "execution_count": 4,
   "id": "824711c2",
   "metadata": {},
   "outputs": [],
   "source": [
    "os.chdir('AIS_train/Problems/MoG_2D_illustration/')"
   ]
  },
  {
   "cell_type": "code",
   "execution_count": 5,
   "id": "3451445b",
   "metadata": {},
   "outputs": [
    {
     "data": {
      "text/plain": [
       "['training2021_07_22-03_53_10_PM',\n",
       " 'training2021_07_22-04_23_55_PM',\n",
       " 'training2021_07_22-04_28_49_PM']"
      ]
     },
     "execution_count": 5,
     "metadata": {},
     "output_type": "execute_result"
    }
   ],
   "source": [
    "os.listdir()"
   ]
  },
  {
   "cell_type": "code",
   "execution_count": 8,
   "id": "6b4b64f1",
   "metadata": {},
   "outputs": [
    {
     "data": {
      "text/plain": [
       "['Samples_from_flow_epoch588.png',\n",
       " 'Samples_from_flow_epoch594.png',\n",
       " 'Samples_from_flow_epoch6.png',\n",
       " 'Samples_from_flow_epoch60.png',\n",
       " 'Samples_from_flow_epoch66.png',\n",
       " 'Samples_from_flow_epoch72.png',\n",
       " 'Samples_from_flow_epoch78.png',\n",
       " 'Samples_from_flow_epoch84.png',\n",
       " 'Samples_from_flow_epoch90.png',\n",
       " 'Samples_from_flow_epoch96.png']"
      ]
     },
     "execution_count": 8,
     "metadata": {},
     "output_type": "execute_result"
    }
   ],
   "source": [
    "target_dir = os.listdir()[-1]\n",
    "os.listdir(target_dir)[-10:]"
   ]
  },
  {
   "cell_type": "code",
   "execution_count": 9,
   "id": "c79f1643",
   "metadata": {},
   "outputs": [],
   "source": [
    "epochs = list(range(0, 600, 6))"
   ]
  },
  {
   "cell_type": "markdown",
   "id": "34aa5e7d",
   "metadata": {},
   "source": [
    "# Make GIF"
   ]
  },
  {
   "cell_type": "code",
   "execution_count": null,
   "id": "452e2d2f",
   "metadata": {},
   "outputs": [],
   "source": [
    "kwargs = {\"fps\": 5}\n",
    "images = []\n",
    "for epoch in epochs:\n",
    "    filename = target_dir + f'/Samples_from_flow_epoch{epoch}.png'\n",
    "    images.append(imageio.imread(filename))\n",
    "imageio.mimsave(target_dir + '/flow_train.gif', images, **kwargs)"
   ]
  },
  {
   "cell_type": "code",
   "execution_count": null,
   "id": "f0cd6fb8",
   "metadata": {},
   "outputs": [],
   "source": [
    "??imageio.mimsave"
   ]
  },
  {
   "cell_type": "markdown",
   "id": "89aae997",
   "metadata": {},
   "source": [
    "# Save For LATEX"
   ]
  },
  {
   "cell_type": "code",
   "execution_count": 10,
   "id": "1a5092c3",
   "metadata": {},
   "outputs": [],
   "source": [
    "from shutil import copyfile"
   ]
  },
  {
   "cell_type": "code",
   "execution_count": 14,
   "id": "2a6678f1",
   "metadata": {},
   "outputs": [],
   "source": [
    "i = 0\n",
    "for j, epoch in enumerate(epochs):\n",
    "    if j < 10 or j%4 == 0:\n",
    "        i += 1\n",
    "        filename = target_dir + f'/Samples_from_flow_epoch{epoch}.png'\n",
    "        dst = target_dir + f'/LATEX/Samples_from_flow{i}.png'\n",
    "        copyfile(filename, dst)"
   ]
  },
  {
   "cell_type": "code",
   "execution_count": 17,
   "id": "d30584a1",
   "metadata": {},
   "outputs": [],
   "source": [
    "i = 0\n",
    "for j, epoch in enumerate(epochs):\n",
    "    if j < 10 or j%4 == 0:\n",
    "        i += 1\n",
    "        filename = target_dir + f'/Samples_from_AIS_epoch{epoch}.png'\n",
    "        dst = target_dir + f'/LATEX/Samples_from_AIS{i}.png'\n",
    "        copyfile(filename, dst)"
   ]
  },
  {
   "cell_type": "code",
   "execution_count": null,
   "id": "f78e953f",
   "metadata": {},
   "outputs": [],
   "source": []
  }
 ],
 "metadata": {
  "kernelspec": {
   "display_name": "Python 3",
   "language": "python",
   "name": "python3"
  },
  "language_info": {
   "codemirror_mode": {
    "name": "ipython",
    "version": 3
   },
   "file_extension": ".py",
   "mimetype": "text/x-python",
   "name": "python",
   "nbconvert_exporter": "python",
   "pygments_lexer": "ipython3",
   "version": "3.8.8"
  },
  "varInspector": {
   "cols": {
    "lenName": 16,
    "lenType": 16,
    "lenVar": 40
   },
   "kernels_config": {
    "python": {
     "delete_cmd_postfix": "",
     "delete_cmd_prefix": "del ",
     "library": "var_list.py",
     "varRefreshCmd": "print(var_dic_list())"
    },
    "r": {
     "delete_cmd_postfix": ") ",
     "delete_cmd_prefix": "rm(",
     "library": "var_list.r",
     "varRefreshCmd": "cat(var_dic_list()) "
    }
   },
   "types_to_exclude": [
    "module",
    "function",
    "builtin_function_or_method",
    "instance",
    "_Feature"
   ],
   "window_display": false
  }
 },
 "nbformat": 4,
 "nbformat_minor": 5
}
