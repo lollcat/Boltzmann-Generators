{
 "cells": [
  {
   "cell_type": "code",
   "execution_count": 2,
   "id": "0a9b60cb",
   "metadata": {},
   "outputs": [],
   "source": [
    "from pathlib import Path\n",
    "import os\n",
    "cwd_path = Path.cwd(); set_path = str(cwd_path.parent); os.chdir(set_path)"
   ]
  },
  {
   "cell_type": "code",
   "execution_count": 3,
   "id": "7ee1519a",
   "metadata": {},
   "outputs": [],
   "source": [
    "%load_ext autoreload\n",
    "%autoreload 2"
   ]
  },
  {
   "cell_type": "code",
   "execution_count": 4,
   "id": "65b8e874",
   "metadata": {},
   "outputs": [],
   "source": [
    "%reload_ext autoreload"
   ]
  },
  {
   "cell_type": "code",
   "execution_count": 5,
   "id": "493f969c",
   "metadata": {},
   "outputs": [
    {
     "ename": "ModuleNotFoundError",
     "evalue": "No module named 'TargetDistributions'",
     "output_type": "error",
     "traceback": [
      "\u001b[0;31m---------------------------------------------------------------------------\u001b[0m",
      "\u001b[0;31mModuleNotFoundError\u001b[0m                       Traceback (most recent call last)",
      "\u001b[0;32m<ipython-input-5-b80e54fb2c7c>\u001b[0m in \u001b[0;36m<module>\u001b[0;34m\u001b[0m\n\u001b[0;32m----> 1\u001b[0;31m \u001b[0;32mfrom\u001b[0m \u001b[0mTargetDistributions\u001b[0m\u001b[0;34m.\u001b[0m\u001b[0mDoubleWell\u001b[0m \u001b[0;32mimport\u001b[0m \u001b[0mManyWellEnergy\u001b[0m\u001b[0;34m\u001b[0m\u001b[0;34m\u001b[0m\u001b[0m\n\u001b[0m\u001b[1;32m      2\u001b[0m \u001b[0;32mfrom\u001b[0m \u001b[0mFittedModels\u001b[0m\u001b[0;34m.\u001b[0m\u001b[0mutils\u001b[0m\u001b[0;34m.\u001b[0m\u001b[0mplotting_utils\u001b[0m \u001b[0;32mimport\u001b[0m \u001b[0mplot_samples_vs_contours_many_well\u001b[0m\u001b[0;34m\u001b[0m\u001b[0;34m\u001b[0m\u001b[0m\n",
      "\u001b[0;31mModuleNotFoundError\u001b[0m: No module named 'TargetDistributions'"
     ]
    }
   ],
   "source": [
    "from TargetDistributions.DoubleWell import ManyWellEnergy\n",
    "from FittedModels.utils.plotting_utils import plot_samples_vs_contours_many_well"
   ]
  },
  {
   "cell_type": "code",
   "execution_count": null,
   "id": "b297b297",
   "metadata": {},
   "outputs": [],
   "source": [
    "from FittedModels.Models.FlowModel import FlowModel\n",
    "from AIS_train.train_AIS import AIS_trainer\n",
    "from ImportanceSampling.VanillaImportanceSampler import VanillaImportanceSampling\n",
    "from FittedModels.utils.plotting_utils import plot_history, plot_distributions, plot_samples\n",
    "\n",
    "import matplotlib.pyplot as plt\n",
    "import torch\n",
    "from Utils.plotting_utils import plot_func2D, plot_distribution\n",
    "from Utils.numerical_utils import MC_estimate_true_expectation\n",
    "from Utils.numerical_utils import quadratic_function as expectation_function\n",
    "torch.set_default_dtype(torch.float64)\n",
    "\n",
    "def plotter(*args, **kwargs):\n",
    "    # wrap plotting function like this so it displays during training\n",
    "    plot_samples_vs_contours_many_well(*args, **kwargs)\n",
    "    plt.show()"
   ]
  },
  {
   "cell_type": "code",
   "execution_count": null,
   "id": "50f05ed2",
   "metadata": {},
   "outputs": [],
   "source": [
    "dim = 6\n",
    "target = ManyWellEnergy(dim=dim, a=-0.5, b=-6)"
   ]
  },
  {
   "cell_type": "code",
   "execution_count": null,
   "id": "9dd89fa0",
   "metadata": {},
   "outputs": [],
   "source": [
    "n_samples_expectation = int(1e4)\n",
    "n_samples=int(1e4)"
   ]
  },
  {
   "cell_type": "code",
   "execution_count": null,
   "id": "9327e498",
   "metadata": {},
   "outputs": [],
   "source": [
    "learnt_sampler = FlowModel(x_dim=dim, scaling_factor=2.0, flow_type=\"RealNVP\", n_flow_steps=60)\n",
    "tester = AIS_trainer(target, learnt_sampler, loss_type=\"DReG\", n_distributions=20, n_steps_transition_operator=3,\n",
    "                    step_size=0.5, transition_operator=\"HMC\", train_AIS_params=True, learnt_dist_kwargs={\"lr\": 1e-4},\n",
    "                    importance_param_lr=1e-3)"
   ]
  },
  {
   "cell_type": "markdown",
   "id": "7e1a1996",
   "metadata": {},
   "source": [
    "# Visualisation"
   ]
  },
  {
   "cell_type": "markdown",
   "id": "2c9ec46b",
   "metadata": {},
   "source": [
    "## Vanilla IS with the flow"
   ]
  },
  {
   "cell_type": "code",
   "execution_count": null,
   "id": "aa90cf5a",
   "metadata": {},
   "outputs": [],
   "source": [
    "vanilla_IS = VanillaImportanceSampling(sampling_distribution=learnt_sampler, target_distribution=target)\n",
    "expectation_vanilla, info_dict_vanilla = \\\n",
    "vanilla_IS.calculate_expectation(n_samples_expectation, expectation_function=expectation_function)\n",
    "print(f\"ESS is {info_dict_vanilla['effective_sample_size']/n_samples_expectation}, \\\n",
    "      var is {torch.var(info_dict_vanilla['normalised_sampling_weights'])}\")"
   ]
  },
  {
   "cell_type": "markdown",
   "id": "22b9ac73",
   "metadata": {},
   "source": [
    "## Hamiltonian HMC"
   ]
  },
  {
   "cell_type": "code",
   "execution_count": null,
   "id": "42545a47",
   "metadata": {},
   "outputs": [],
   "source": [
    "expectation_before, info_dict_before = tester.AIS_train.calculate_expectation(n_samples_expectation,\n",
    "                                                                    expectation_function=expectation_function)\n",
    "print(info_dict_before['effective_sample_size'].item() / n_samples_expectation)"
   ]
  },
  {
   "cell_type": "code",
   "execution_count": null,
   "id": "33823d96",
   "metadata": {},
   "outputs": [],
   "source": [
    "plot_samples_vs_contours_many_well(tester, n_samples=1000,\n",
    "                                      title=f\"training epoch, samples from flow\")\n",
    "plot_samples_vs_contours_many_well(tester, n_samples=None,\n",
    "                                      title=f\"training epoch, samples from AIS\",\n",
    "                                      samples_q=info_dict_before[\"samples\"])"
   ]
  },
  {
   "cell_type": "markdown",
   "id": "87d42a28",
   "metadata": {},
   "source": [
    "# Train"
   ]
  },
  {
   "cell_type": "code",
   "execution_count": null,
   "id": "3b52e934",
   "metadata": {},
   "outputs": [],
   "source": [
    "learnt_sampler = FlowModel(x_dim=dim, scaling_factor=2.0, flow_type=\"RealNVP\", n_flow_steps=60)\n",
    "tester = AIS_trainer(target, learnt_sampler, loss_type=\"DReG\", n_distributions=10, n_steps_transition_operator=3,\n",
    "                    step_size=0.5, transition_operator=\"HMC\", train_AIS_params=True, learnt_dist_kwargs={\"lr\": 1e-4},\n",
    "                    importance_param_lr=1e-4)"
   ]
  },
  {
   "cell_type": "code",
   "execution_count": null,
   "id": "7e274b09",
   "metadata": {
    "scrolled": true
   },
   "outputs": [],
   "source": [
    "history = tester.train(1000, batch_size=int(1e3), intermediate_plots=True, n_plots=4, plotting_func=plotter)"
   ]
  },
  {
   "cell_type": "code",
   "execution_count": null,
   "id": "de6e1a5e",
   "metadata": {},
   "outputs": [],
   "source": [
    "plot_samples_vs_contours_many_well(tester, n_samples=1000,\n",
    "                                      title=f\"training epoch, samples from flow\")\n",
    "plot_samples_vs_contours_many_well(tester, n_samples=None,\n",
    "                                      title=f\"training epoch, samples from AIS\",\n",
    "                                      samples_q=info_dict_before[\"samples\"])"
   ]
  },
  {
   "cell_type": "code",
   "execution_count": null,
   "id": "abe75e5b",
   "metadata": {},
   "outputs": [],
   "source": [
    "expectation, info_dict = tester.AIS_train.calculate_expectation(n_samples_expectation,\n",
    "                                                                    expectation_function=expectation_function)\n",
    "print(info_dict['effective_sample_size'].item() / n_samples_expectation)"
   ]
  },
  {
   "cell_type": "code",
   "execution_count": null,
   "id": "947f9cb5",
   "metadata": {},
   "outputs": [],
   "source": [
    "plot_history(history)"
   ]
  },
  {
   "cell_type": "markdown",
   "id": "2d157ccf",
   "metadata": {},
   "source": [
    "# Metrpolis-Hastings"
   ]
  },
  {
   "cell_type": "code",
   "execution_count": null,
   "id": "5a21725f",
   "metadata": {},
   "outputs": [],
   "source": [
    "learnt_sampler = FlowModel(x_dim=dim, scaling_factor=2.0, flow_type=\"RealNVP\", n_flow_steps=60)\n",
    "tester = AIS_trainer(target, learnt_sampler, loss_type=\"DReG\", n_distributions=20, n_steps_transition_operator=3,\n",
    "                    step_size=0.5, transition_operator=\"Metropolis\", train_AIS_params=True, learnt_dist_kwargs={\"lr\": 1e-4},\n",
    "                    importance_param_lr=1e-3)"
   ]
  },
  {
   "cell_type": "code",
   "execution_count": null,
   "id": "4388939c",
   "metadata": {},
   "outputs": [],
   "source": [
    "expectation_before, info_dict_before = tester.AIS_train.calculate_expectation(n_samples_expectation,\n",
    "                                                                    expectation_function=expectation_function)\n",
    "print(info_dict_before['effective_sample_size'].item() / n_samples_expectation)"
   ]
  },
  {
   "cell_type": "code",
   "execution_count": null,
   "id": "f876b01a",
   "metadata": {},
   "outputs": [],
   "source": [
    "plot_samples_vs_contours_many_well(tester, n_samples=1000,\n",
    "                                      title=f\"training epoch, samples from flow\")\n",
    "plot_samples_vs_contours_many_well(tester, n_samples=None,\n",
    "                                      title=f\"training epoch, samples from AIS\",\n",
    "                                      samples_q=info_dict_before[\"samples\"])"
   ]
  },
  {
   "cell_type": "markdown",
   "id": "5809b531",
   "metadata": {},
   "source": [
    "# Train"
   ]
  },
  {
   "cell_type": "code",
   "execution_count": null,
   "id": "456b044c",
   "metadata": {},
   "outputs": [],
   "source": [
    "learnt_sampler = FlowModel(x_dim=dim, scaling_factor=2.0, flow_type=\"RealNVP\", n_flow_steps=60)\n",
    "tester = AIS_trainer(target, learnt_sampler, loss_type=\"DReG\", n_distributions=20, n_steps_transition_operator=3,\n",
    "                    step_size=0.5, transition_operator=\"Metropolis\", train_AIS_params=True, learnt_dist_kwargs={\"lr\": 1e-4},\n",
    "                    importance_param_lr=1e-4)"
   ]
  },
  {
   "cell_type": "code",
   "execution_count": null,
   "id": "79e4b04a",
   "metadata": {
    "scrolled": true
   },
   "outputs": [],
   "source": [
    "history = tester.train(100, batch_size=int(1e3), intermediate_plots=True, n_plots=4, plotting_func=plotter)"
   ]
  },
  {
   "cell_type": "code",
   "execution_count": null,
   "id": "c21d723f",
   "metadata": {},
   "outputs": [],
   "source": []
  },
  {
   "cell_type": "code",
   "execution_count": null,
   "id": "027958c3",
   "metadata": {},
   "outputs": [],
   "source": [
    "plot_samples_vs_contours_many_well(tester, n_samples=1000,\n",
    "                                      title=f\"training epoch, samples from flow\")\n",
    "plot_samples_vs_contours_many_well(tester, n_samples=None,\n",
    "                                      title=f\"training epoch, samples from AIS\",\n",
    "                                      samples_q=info_dict_before[\"samples\"])"
   ]
  },
  {
   "cell_type": "code",
   "execution_count": null,
   "id": "1e142dff",
   "metadata": {},
   "outputs": [],
   "source": [
    "history = tester.train(1000, batch_size=int(1e3), intermediate_plots=True, n_plots=4, plotting_func=plotter)"
   ]
  },
  {
   "cell_type": "code",
   "execution_count": null,
   "id": "ea812f95",
   "metadata": {},
   "outputs": [],
   "source": [
    "plot_samples_vs_contours_many_well(tester, n_samples=1000,\n",
    "                                      title=f\"training epoch, samples from flow\")\n",
    "plot_samples_vs_contours_many_well(tester, n_samples=None,\n",
    "                                      title=f\"training epoch, samples from AIS\",\n",
    "                                      samples_q=info_dict_before[\"samples\"])"
   ]
  },
  {
   "cell_type": "code",
   "execution_count": null,
   "id": "b2bcdcc9",
   "metadata": {},
   "outputs": [],
   "source": []
  }
 ],
 "metadata": {
  "kernelspec": {
   "display_name": "Python 3",
   "language": "python",
   "name": "python3"
  },
  "language_info": {
   "codemirror_mode": {
    "name": "ipython",
    "version": 3
   },
   "file_extension": ".py",
   "mimetype": "text/x-python",
   "name": "python",
   "nbconvert_exporter": "python",
   "pygments_lexer": "ipython3",
   "version": "3.8.10"
  }
 },
 "nbformat": 4,
 "nbformat_minor": 5
}
