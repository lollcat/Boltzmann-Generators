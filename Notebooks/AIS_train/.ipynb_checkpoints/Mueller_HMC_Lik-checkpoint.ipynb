{
 "cells": [
  {
   "cell_type": "code",
   "execution_count": 13,
   "metadata": {},
   "outputs": [],
   "source": [
    "from pathlib import Path\n",
    "import os\n",
    "cwd_path = Path.cwd(); set_path = str(cwd_path.parent.parent); os.chdir(set_path)"
   ]
  },
  {
   "cell_type": "code",
   "execution_count": 14,
   "metadata": {},
   "outputs": [
    {
     "name": "stdout",
     "output_type": "stream",
     "text": [
      "The autoreload extension is already loaded. To reload it, use:\n",
      "  %reload_ext autoreload\n"
     ]
    }
   ],
   "source": [
    "%load_ext autoreload\n",
    "%autoreload 2"
   ]
  },
  {
   "cell_type": "code",
   "execution_count": 15,
   "metadata": {},
   "outputs": [],
   "source": [
    "%reload_ext autoreload"
   ]
  },
  {
   "cell_type": "code",
   "execution_count": 16,
   "metadata": {},
   "outputs": [],
   "source": [
    "from TargetDistributions.Mueller_potential import MuellerPotential\n",
    "from FittedModels.utils.plotting_utils import plot_samples_vs_contours_many_well"
   ]
  },
  {
   "cell_type": "code",
   "execution_count": 17,
   "metadata": {},
   "outputs": [],
   "source": [
    "from FittedModels.Models.FlowModel import FlowModel\n",
    "from AIS_train.train_AIS import AIS_trainer\n",
    "from ImportanceSampling.VanillaImportanceSampler import VanillaImportanceSampling\n",
    "from FittedModels.utils.plotting_utils import plot_history, plot_distributions, plot_samples\n",
    "\n",
    "import matplotlib.pyplot as plt\n",
    "import torch\n",
    "from Utils.plotting_utils import plot_func2D, plot_distribution\n",
    "from Utils.numerical_utils import MC_estimate_true_expectation\n",
    "from Utils.numerical_utils import quadratic_function as expectation_function\n",
    "torch.set_default_dtype(torch.float64)\n",
    "\n",
    "def plotter(*args, **kwargs):\n",
    "    # wrap plotting function like this so it displays during training\n",
    "    plot_samples_vs_contours_many_well(*args, **kwargs)\n",
    "    plt.show()"
   ]
  },
  {
   "cell_type": "code",
   "execution_count": 18,
   "metadata": {},
   "outputs": [],
   "source": [
    "dim = 2\n",
    "target = MuellerPotential()"
   ]
  },
  {
   "cell_type": "code",
   "execution_count": 19,
   "metadata": {},
   "outputs": [],
   "source": [
    "n_samples_expectation = int(1e4)\n",
    "n_samples=int(1e4)"
   ]
  },
  {
   "cell_type": "markdown",
   "metadata": {},
   "source": [
    "# Vanilla IS"
   ]
  },
  {
   "cell_type": "code",
   "execution_count": 20,
   "metadata": {},
   "outputs": [
    {
     "name": "stdout",
     "output_type": "stream",
     "text": [
      "ESS is 0.0003295524971409476,           var is 3.0337212833121655e-05\n"
     ]
    }
   ],
   "source": [
    "learnt_sampler = FlowModel(x_dim=dim, scaling_factor=2.0, flow_type=\"RealNVP\", n_flow_steps=60)\n",
    "vanilla_IS = VanillaImportanceSampling(sampling_distribution=learnt_sampler, target_distribution=target)\n",
    "with torch.no_grad():\n",
    "    expectation_vanilla, info_dict_vanilla = \\\n",
    "    vanilla_IS.calculate_expectation(n_samples_expectation, expectation_function=expectation_function)\n",
    "    print(f\"ESS is {info_dict_vanilla['effective_sample_size']/n_samples_expectation}, \\\n",
    "          var is {torch.var(info_dict_vanilla['normalised_sampling_weights'])}\")"
   ]
  },
  {
   "cell_type": "markdown",
   "metadata": {},
   "source": [
    "# DReG likelihood"
   ]
  },
  {
   "cell_type": "code",
   "execution_count": 21,
   "metadata": {},
   "outputs": [],
   "source": [
    "learnt_sampler = FlowModel(x_dim=dim, scaling_factor=2.0, flow_type=\"RealNVP\", n_flow_steps=60)\n",
    "tester = AIS_trainer(target, learnt_sampler, loss_type=False, n_distributions=4, n_steps_transition_operator=3,\n",
    "                    step_size=1.0, transition_operator=\"HMC\", learnt_dist_kwargs={\"lr\": 1e-4},\n",
    "                     loss_type_2=\"alpha_2\")"
   ]
  },
  {
   "cell_type": "code",
   "execution_count": null,
   "metadata": {},
   "outputs": [],
   "source": [
    "expectation_before, info_dict_before = tester.AIS_train.calculate_expectation(n_samples_expectation,\n",
    "                                                                    expectation_function=expectation_function,\n",
    "                                                                             batch_size=int(1e3))\n",
    "print(info_dict_before['effective_sample_size'].item() / n_samples_expectation)"
   ]
  },
  {
   "cell_type": "code",
   "execution_count": null,
   "metadata": {},
   "outputs": [],
   "source": [
    "plot_samples_vs_contours_many_well(tester, n_samples=1000,\n",
    "                                      title=f\"training epoch, samples from flow\")\n",
    "plot_samples_vs_contours_many_well(tester, n_samples=None,\n",
    "                                      title=f\"training epoch, samples from AIS\",\n",
    "                                      samples_q=info_dict_before[\"samples\"])"
   ]
  },
  {
   "cell_type": "code",
   "execution_count": null,
   "metadata": {
    "scrolled": true
   },
   "outputs": [],
   "source": [
    "history = tester.train(500, batch_size=int(1e3), intermediate_plots=True, n_plots=10, plotting_func=plotter)"
   ]
  },
  {
   "cell_type": "code",
   "execution_count": null,
   "metadata": {},
   "outputs": [],
   "source": [
    "plot_history(history)"
   ]
  },
  {
   "cell_type": "code",
   "execution_count": null,
   "metadata": {},
   "outputs": [],
   "source": [
    "plot_history(dict([(key, history[key]) for key in ('loss', 'log_p_x_after_AIS', 'log_w', 'kl', \n",
    "                                               'alpha_2_divergence', 'log_q_AIS_x', 'ESS')]))"
   ]
  },
  {
   "cell_type": "code",
   "execution_count": null,
   "metadata": {},
   "outputs": [],
   "source": [
    "expectation, info_dict = tester.AIS_train.calculate_expectation(n_samples_expectation,\n",
    "                                                                    expectation_function=expectation_function,\n",
    "                                                                             batch_size=int(1e3))\n",
    "print(info_dict['effective_sample_size'].item() / n_samples_expectation)"
   ]
  },
  {
   "cell_type": "code",
   "execution_count": null,
   "metadata": {},
   "outputs": [],
   "source": [
    "plot_samples_vs_contours_many_well(tester, n_samples=1000,\n",
    "                                      title=f\"training epoch, samples from flow\")\n",
    "plot_samples_vs_contours_many_well(tester, n_samples=None,\n",
    "                                      title=f\"training epoch, samples from AIS\",\n",
    "                                      samples_q=info_dict[\"samples\"])"
   ]
  },
  {
   "cell_type": "code",
   "execution_count": null,
   "metadata": {},
   "outputs": [],
   "source": []
  }
 ],
 "metadata": {
  "kernelspec": {
   "display_name": "Python 3",
   "language": "python",
   "name": "python3"
  },
  "language_info": {
   "codemirror_mode": {
    "name": "ipython",
    "version": 3
   },
   "file_extension": ".py",
   "mimetype": "text/x-python",
   "name": "python",
   "nbconvert_exporter": "python",
   "pygments_lexer": "ipython3",
   "version": "3.8.8"
  },
  "varInspector": {
   "cols": {
    "lenName": 16,
    "lenType": 16,
    "lenVar": 40
   },
   "kernels_config": {
    "python": {
     "delete_cmd_postfix": "",
     "delete_cmd_prefix": "del ",
     "library": "var_list.py",
     "varRefreshCmd": "print(var_dic_list())"
    },
    "r": {
     "delete_cmd_postfix": ") ",
     "delete_cmd_prefix": "rm(",
     "library": "var_list.r",
     "varRefreshCmd": "cat(var_dic_list()) "
    }
   },
   "types_to_exclude": [
    "module",
    "function",
    "builtin_function_or_method",
    "instance",
    "_Feature"
   ],
   "window_display": false
  }
 },
 "nbformat": 4,
 "nbformat_minor": 1
}
