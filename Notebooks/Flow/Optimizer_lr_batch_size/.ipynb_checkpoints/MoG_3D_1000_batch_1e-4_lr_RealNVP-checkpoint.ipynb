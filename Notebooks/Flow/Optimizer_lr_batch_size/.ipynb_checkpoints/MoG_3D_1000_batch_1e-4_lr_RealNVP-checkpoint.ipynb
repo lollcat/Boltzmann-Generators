{
 "cells": [
  {
   "cell_type": "markdown",
   "id": "b17256ed",
   "metadata": {
    "id": "b17256ed"
   },
   "source": [
    "# Imports and define expectation func"
   ]
  },
  {
   "cell_type": "code",
   "execution_count": 1,
   "id": "36bfdb46",
   "metadata": {},
   "outputs": [],
   "source": [
    "from pathlib import Path\n",
    "import os\n",
    "cwd_path = Path.cwd(); set_path = str(cwd_path.parent.parent.parent); os.chdir(set_path)"
   ]
  },
  {
   "cell_type": "code",
   "execution_count": 2,
   "id": "54c73f65",
   "metadata": {
    "id": "54c73f65"
   },
   "outputs": [],
   "source": [
    "import torch\n",
    "import matplotlib.pyplot as plt\n",
    "import matplotlib as mpl\n",
    "from FittedModels.utils import plot_distributions, plot_samples, plot_sampling_info, plot_divergences\n",
    "from ImportanceSampling.VanillaImportanceSampler import VanillaImportanceSampling\n",
    "from FittedModels.utils import plot_distributions\n",
    "from FittedModels.train import LearntDistributionManager\n",
    "from Utils.plotting_utils import plot_func2D, plot_distribution, plot_samples_single_dist\n",
    "from Utils.numerical_utils import MC_estimate_true_expectation, expectation_function\n",
    "from FittedModels.Models.FlowModel import FlowModel\n",
    "from FittedModels.utils import plot_history\n",
    "import matplotlib.pyplot as plt\n",
    "from TargetDistributions.MoG import MoG\n",
    "from TargetDistributions.MoG import custom_MoG"
   ]
  },
  {
   "cell_type": "code",
   "execution_count": null,
   "id": "96636bb7",
   "metadata": {
    "colab": {
     "base_uri": "https://localhost:8080/",
     "height": 248
    },
    "id": "96636bb7",
    "outputId": "9c89ed8e-9e48-47fa-ad58-1f92c61ae0fa",
    "scrolled": true
   },
   "outputs": [],
   "source": [
    "expectation_func_fig = plot_func2D(expectation_function, n_points=200, range=15)"
   ]
  },
  {
   "cell_type": "markdown",
   "id": "733d9298",
   "metadata": {
    "id": "733d9298"
   },
   "source": [
    "# Lumpy High Dimension Flow Target Distribution"
   ]
  },
  {
   "cell_type": "code",
   "execution_count": null,
   "id": "6b136f61",
   "metadata": {
    "id": "6b136f61"
   },
   "outputs": [],
   "source": [
    "torch.set_default_dtype(torch.float64)"
   ]
  },
  {
   "cell_type": "code",
   "execution_count": null,
   "id": "zHf4DCOm4KmW",
   "metadata": {
    "id": "zHf4DCOm4KmW"
   },
   "outputs": [],
   "source": [
    "epochs = int(1e5)\n",
    "batch_size = int(1e3)\n",
    "dim = 3\n",
    "n_samples_estimation = int(5e6)\n",
    "KPI_n_samples = int(1e4)\n",
    "lr = 1e-4\n",
    "optimizer = \"Adamax\"\n",
    "flow_type = \"RealNVP\"\n",
    "n_flow_steps = 5\n",
    "prior_scaling_factor = 5.0"
   ]
  },
  {
   "cell_type": "code",
   "execution_count": null,
   "id": "51d87622",
   "metadata": {
    "colab": {
     "base_uri": "https://localhost:8080/"
    },
    "id": "51d87622",
    "outputId": "c90d7aad-8ecb-4049-ca28-8e3aa1f7b130"
   },
   "outputs": [],
   "source": [
    "torch.manual_seed(0)\n",
    "target = MoG(dim=dim, n_mixes=10, min_cov=0, loc_scaling=3).to(\"cuda\")\n",
    "true_expectation = MC_estimate_true_expectation(target, expectation_function, n_samples_estimation)\n",
    "print(true_expectation)\n",
    "print(MC_estimate_true_expectation(target, expectation_function, n_samples_estimation)) # print twice to make sure estimates are resonably close"
   ]
  },
  {
   "cell_type": "markdown",
   "id": "52d3a45c",
   "metadata": {
    "id": "52d3a45c"
   },
   "source": [
    "# DReG, alpha=2"
   ]
  },
  {
   "cell_type": "code",
   "execution_count": null,
   "id": "6b894a10",
   "metadata": {
    "id": "6b894a10"
   },
   "outputs": [],
   "source": [
    "torch.manual_seed(1)\n",
    "learnt_sampler = FlowModel(x_dim=dim, n_flow_steps=n_flow_steps, scaling_factor=prior_scaling_factor, flow_type=flow_type)\n",
    "tester = LearntDistributionManager(target, learnt_sampler, VanillaImportanceSampling, loss_type=\"DReG\",\n",
    "                                   lr=lr, optimizer=optimizer)\n",
    "expectation_before, info_before = tester.estimate_expectation(n_samples_estimation, expectation_function)"
   ]
  },
  {
   "cell_type": "code",
   "execution_count": null,
   "id": "5e7a4d51",
   "metadata": {
    "colab": {
     "base_uri": "https://localhost:8080/",
     "height": 281
    },
    "id": "5e7a4d51",
    "outputId": "19fece95-43dc-4281-caa5-292b1306227e"
   },
   "outputs": [],
   "source": [
    "samples_fig_before = plot_samples(tester, n_samples=batch_size) # this just looks at 2 dimensions"
   ]
  },
  {
   "cell_type": "code",
   "execution_count": null,
   "id": "34a1bde2",
   "metadata": {
    "colab": {
     "base_uri": "https://localhost:8080/"
    },
    "id": "34a1bde2",
    "outputId": "c9c55e0f-5ba0-436d-cf14-4f134218ae0b",
    "scrolled": true
   },
   "outputs": [],
   "source": [
    "history = tester.train(epochs, batch_size=batch_size, KPI_batch_size=KPI_n_samples,\n",
    "                       clip_grad=True, max_grad_norm=1)"
   ]
  },
  {
   "cell_type": "code",
   "execution_count": null,
   "id": "594466c0",
   "metadata": {
    "id": "594466c0"
   },
   "outputs": [],
   "source": [
    "expectation, info = tester.estimate_expectation(n_samples_estimation, expectation_function)\n",
    "print(f\"True expectation estimate is {true_expectation} \\n\"\n",
    "    f\"estimate before training is {expectation_before} \\n\"\n",
    "      f\"estimate after training is {expectation} \\n\" \n",
    "     f\"effective sample size before is {info_before['effective_sample_size']/n_samples_estimation}\\n\"\n",
    "     f\"effective sample size after train is {info['effective_sample_size']/n_samples_estimation}\\n\"\n",
    "     f\"variance in weights is {torch.var(info['normalised_sampling_weights'])}\")"
   ]
  },
  {
   "cell_type": "code",
   "execution_count": null,
   "id": "eK5ZQA3Mehan",
   "metadata": {
    "id": "eK5ZQA3Mehan"
   },
   "outputs": [],
   "source": [
    "expectation, info = tester.estimate_expectation(n_samples_estimation, expectation_function)\n",
    "print(f\"True expectation estimate is {true_expectation} \\n\"\n",
    "    f\"estimate before training is {expectation_before} \\n\"\n",
    "      f\"estimate after training is {expectation} \\n\" \n",
    "     f\"effective sample size before is {info_before['effective_sample_size']/n_samples_estimation}\\n\"\n",
    "     f\"effective sample size after train is {info['effective_sample_size']/n_samples_estimation}\\n\"\n",
    "     f\"variance in weights is {torch.var(info['normalised_sampling_weights'])}\")"
   ]
  },
  {
   "cell_type": "code",
   "execution_count": null,
   "id": "ffd465c1",
   "metadata": {
    "id": "ffd465c1",
    "scrolled": true
   },
   "outputs": [],
   "source": [
    "samples_fig_after = plot_samples(tester)"
   ]
  },
  {
   "cell_type": "code",
   "execution_count": null,
   "id": "57adb793",
   "metadata": {
    "id": "57adb793"
   },
   "outputs": [],
   "source": [
    "plot_divergences(history)"
   ]
  },
  {
   "cell_type": "code",
   "execution_count": null,
   "id": "b2866ec9",
   "metadata": {
    "id": "b2866ec9"
   },
   "outputs": [],
   "source": [
    "plot_sampling_info(history)"
   ]
  },
  {
   "cell_type": "code",
   "execution_count": null,
   "id": "3153247c",
   "metadata": {
    "id": "3153247c",
    "scrolled": true
   },
   "outputs": [],
   "source": [
    "hist_plot = plot_history(history)"
   ]
  },
  {
   "cell_type": "markdown",
   "id": "9262dee9",
   "metadata": {
    "id": "9262dee9"
   },
   "source": [
    "# KL"
   ]
  },
  {
   "cell_type": "code",
   "execution_count": null,
   "id": "bb0a6ed5",
   "metadata": {
    "id": "bb0a6ed5"
   },
   "outputs": [],
   "source": [
    "torch.manual_seed(1)\n",
    "learnt_sampler_kl = FlowModel(x_dim=dim, n_flow_steps=3, scaling_factor=5.0) #, flow_type=\"RealNVP\")\n",
    "tester_kl = LearntDistributionManager(target, learnt_sampler_kl, VanillaImportanceSampling, loss_type=\"kl\", lr=1e-3)\n",
    "expectation_before_kl, info_before_kl = tester_kl.estimate_expectation(n_samples_estimation, expectation_function)"
   ]
  },
  {
   "cell_type": "code",
   "execution_count": null,
   "id": "cfd0f141",
   "metadata": {
    "id": "cfd0f141"
   },
   "outputs": [],
   "source": [
    "samples_fig_before = plot_samples(tester_kl)"
   ]
  },
  {
   "cell_type": "code",
   "execution_count": null,
   "id": "178bb11e",
   "metadata": {
    "id": "178bb11e",
    "scrolled": true
   },
   "outputs": [],
   "source": [
    "history_kl = tester_kl.train(epochs, batch_size=batch_size,)"
   ]
  },
  {
   "cell_type": "code",
   "execution_count": null,
   "id": "d38649b0",
   "metadata": {
    "id": "d38649b0"
   },
   "outputs": [],
   "source": [
    "expectation_kl, info_kl = tester_kl.estimate_expectation(n_samples_estimation, expectation_function)\n",
    "print(f\"True expectation estimate is {true_expectation} \\n\"\n",
    "    f\"estimate before training is {expectation_before_kl} \\n\"\n",
    "      f\"estimate after training is {expectation_kl} \\n\" \n",
    "     f\"effective sample size before is {info_before_kl['effective_sample_size']/n_samples_estimation}\\n\"\n",
    "     f\"effective sample size after train is {info_kl['effective_sample_size']/n_samples_estimation}\\n\"\n",
    "     f\"variance in weights is {torch.var(info_kl['normalised_sampling_weights'])}\")"
   ]
  },
  {
   "cell_type": "code",
   "execution_count": null,
   "id": "OpT6J0tvvnEC",
   "metadata": {
    "id": "OpT6J0tvvnEC"
   },
   "outputs": [],
   "source": [
    "expectation_kl, info_kl = tester_kl.estimate_expectation(n_samples_estimation, expectation_function)\n",
    "print(f\"True expectation estimate is {true_expectation} \\n\"\n",
    "    f\"estimate before training is {expectation_before_kl} \\n\"\n",
    "      f\"estimate after training is {expectation_kl} \\n\" \n",
    "     f\"effective sample size before is {info_before_kl['effective_sample_size']/n_samples_estimation}\\n\"\n",
    "     f\"effective sample size after train is {info_kl['effective_sample_size']/n_samples_estimation}\\n\"\n",
    "     f\"variance in weights is {torch.var(info_kl['normalised_sampling_weights'])}\")"
   ]
  },
  {
   "cell_type": "code",
   "execution_count": null,
   "id": "73cc94a8",
   "metadata": {
    "id": "73cc94a8",
    "scrolled": true
   },
   "outputs": [],
   "source": [
    "samples_fig_after = plot_samples(tester_kl)"
   ]
  },
  {
   "cell_type": "code",
   "execution_count": null,
   "id": "45070aef",
   "metadata": {
    "id": "45070aef"
   },
   "outputs": [],
   "source": [
    "plot_divergences(history_kl)"
   ]
  },
  {
   "cell_type": "code",
   "execution_count": null,
   "id": "2ff56a2c",
   "metadata": {
    "id": "2ff56a2c"
   },
   "outputs": [],
   "source": [
    "plot_sampling_info(history_kl)"
   ]
  },
  {
   "cell_type": "code",
   "execution_count": null,
   "id": "321d9ff1",
   "metadata": {
    "id": "321d9ff1",
    "scrolled": true
   },
   "outputs": [],
   "source": [
    "hist_plot = plot_history(history_kl)"
   ]
  },
  {
   "cell_type": "code",
   "execution_count": null,
   "id": "ee0c86f3",
   "metadata": {
    "id": "ee0c86f3"
   },
   "outputs": [],
   "source": []
  }
 ],
 "metadata": {
  "accelerator": "GPU",
  "colab": {
   "collapsed_sections": [],
   "name": "MoG_3D_run.ipynb",
   "provenance": []
  },
  "kernelspec": {
   "display_name": "Python 3",
   "language": "python",
   "name": "python3"
  },
  "language_info": {
   "codemirror_mode": {
    "name": "ipython",
    "version": 3
   },
   "file_extension": ".py",
   "mimetype": "text/x-python",
   "name": "python",
   "nbconvert_exporter": "python",
   "pygments_lexer": "ipython3",
   "version": "3.8.10"
  },
  "varInspector": {
   "cols": {
    "lenName": 16,
    "lenType": 16,
    "lenVar": 40
   },
   "kernels_config": {
    "python": {
     "delete_cmd_postfix": "",
     "delete_cmd_prefix": "del ",
     "library": "var_list.py",
     "varRefreshCmd": "print(var_dic_list())"
    },
    "r": {
     "delete_cmd_postfix": ") ",
     "delete_cmd_prefix": "rm(",
     "library": "var_list.r",
     "varRefreshCmd": "cat(var_dic_list()) "
    }
   },
   "types_to_exclude": [
    "module",
    "function",
    "builtin_function_or_method",
    "instance",
    "_Feature"
   ],
   "window_display": false
  }
 },
 "nbformat": 4,
 "nbformat_minor": 5
}
