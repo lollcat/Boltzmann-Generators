{
 "cells": [
  {
   "cell_type": "code",
   "execution_count": 1,
   "id": "5be81bbf",
   "metadata": {},
   "outputs": [],
   "source": [
    "from pathlib import Path\n",
    "import os\n",
    "cwd_path = Path.cwd(); set_path = str(cwd_path.parent); os.chdir(set_path)"
   ]
  },
  {
   "cell_type": "code",
   "execution_count": 2,
   "id": "422a787a",
   "metadata": {},
   "outputs": [],
   "source": [
    "import matplotlib.pyplot as plt\n",
    "import torch"
   ]
  },
  {
   "cell_type": "markdown",
   "id": "213f1300",
   "metadata": {},
   "source": [
    "# MoG plotting function"
   ]
  },
  {
   "cell_type": "code",
   "execution_count": 3,
   "id": "52d43429",
   "metadata": {},
   "outputs": [],
   "source": [
    "def plot_energy(target_energy, x, energies, w_x, w_energies, ylabel=False, nstd=2.0, figsize=(4, 4)):\n",
    "    fig = plt.figure(figsize=figsize)\n",
    "    \n",
    "    X = torch.Tensor(np.vstack([np.linspace(-3, 3, num=100), np.zeros((1, 100))]).T)\n",
    "    E_target = target_energy.energy(X)\n",
    "    E_target -= E_target.min()\n",
    "    plt.plot(X[:, 0], E_target, linewidth=3, color='#444444')\n",
    "\n",
    "    # unweighted\n",
    "    E_mean = np.mean(energies, axis=0)\n",
    "    E_mean -= E_mean.min()\n",
    "    plt.errorbar(x, E_mean, nstd*np.std(energies, axis=0), color='red', linewidth=2)\n",
    "    \n",
    "    # weighted\n",
    "    Ew_mean = np.mean(w_energies, axis=0)\n",
    "    Ew_mean -= Ew_mean.min()\n",
    "    plt.errorbar(w_x, Ew_mean, nstd*np.std(w_energies, axis=0), color='green', linewidth=2)\n",
    "    \n",
    "    plt.ylim(-1, 14)\n",
    "    plt.xlabel('$x_1$')\n",
    "    if ylabel:\n",
    "        plt.ylabel('Energy (kT)')\n",
    "    else:\n",
    "        plt.yticks([])\n",
    "    return fig"
   ]
  },
  {
   "cell_type": "markdown",
   "id": "180df0c3",
   "metadata": {},
   "source": [
    "# Let's go"
   ]
  },
  {
   "cell_type": "code",
   "execution_count": 4,
   "id": "ae638a81",
   "metadata": {},
   "outputs": [],
   "source": [
    "from TargetDistributions.DoubleWell import ManyWellEnergy\n",
    "dim = 4\n",
    "target = ManyWellEnergy(dim=dim, a=-0.5, b=-6)"
   ]
  },
  {
   "cell_type": "code",
   "execution_count": 9,
   "id": "929ab5c5",
   "metadata": {},
   "outputs": [
    {
     "data": {
      "text/plain": [
       "<Figure size 288x288 with 0 Axes>"
      ]
     },
     "metadata": {},
     "output_type": "display_data"
    },
    {
     "data": {
      "text/plain": [
       "[<matplotlib.lines.Line2D at 0x15e821d7160>]"
      ]
     },
     "execution_count": 9,
     "metadata": {},
     "output_type": "execute_result"
    },
    {
     "data": {
      "image/png": "[encoded data removed]",
      "text/plain": [
       "<Figure size 432x288 with 1 Axes>"
      ]
     },
     "metadata": {
      "needs_background": "light"
     },
     "output_type": "display_data"
    }
   ],
   "source": [
    "figsize=(4, 4)\n",
    "fig = plt.figure(figsize=figsize)\n",
    "X = torch.Tensor(np.vstack([np.linspace(-3, 3, num=100), np.zeros((1, 100))]).T)\n",
    "E_target = target.energy(X)\n",
    "plt.show()\n",
    "E_target -= E_target.min()\n",
    "plt.plot(X[:, 0], E_target, linewidth=3, color='#444444')"
   ]
  },
  {
   "cell_type": "markdown",
   "id": "06e8efc4",
   "metadata": {},
   "source": [
    "# Let's train a BG"
   ]
  },
  {
   "cell_type": "code",
   "execution_count": 10,
   "id": "8fc98cc8",
   "metadata": {},
   "outputs": [],
   "source": [
    "from AIS_train.Run_Experiment import run_experiment"
   ]
  },
  {
   "cell_type": "code",
   "execution_count": 11,
   "id": "3519a241",
   "metadata": {},
   "outputs": [],
   "source": [
    "from datetime import datetime\n",
    "current_time = datetime.now().strftime(\"%Y_%m_%d-%I_%M_%S_%p\")\n",
    "problem = \"ManyWell\"\n",
    "dim = 4\n",
    "epochs = 2000\n",
    "n_flow_steps = 60\n",
    "n_distributions = 2 + 2\n",
    "batch_size = int(1e3)\n",
    "KPI_batch_size = int(1e3)\n",
    "n_samples_expectation = int(batch_size*2)\n",
    "experiment_name = \"DoubleWell\"\n",
    "n_plots = 3\n",
    "flow_type = \"RealNVP\"\n",
    "HMC_transition_args = {\"step_tuning_method\": \"p_accept\"}\n",
    "learnt_dist_kwargs = {\"lr\": 1e-3, \"optimizer\": \"AdamW\"}\n",
    "save_path = f\"Results/{experiment_name}__{problem}\" \\\n",
    "            f\"{dim}dim_{flow_type}_epochs{epochs}_flowsteps{n_flow_steps}_dist{n_distributions}\" \\\n",
    "            f\"__{current_time}\" \\\n",
    "            f\"HMC{HMC_transition_args['step_tuning_method']}\""
   ]
  },
  {
   "cell_type": "code",
   "execution_count": null,
   "id": "02867b8a",
   "metadata": {},
   "outputs": [
    {
     "name": "stdout",
     "output_type": "stream",
     "text": [
      "running experiment Results/DoubleWell__ManyWell4dim_RealNVP_epochs2000_flowsteps60_dist4__2021_07_31-12_58_32_PMHMCp_accept \n",
      "\n",
      "\n",
      "setting device as cpu\n"
     ]
    },
    {
     "name": "stderr",
     "output_type": "stream",
     "text": [
      "\r",
      "  0%|                                                                                                                                                         | 0/2000 [00:00<?, ?it/s]"
     ]
    }
   ],
   "source": [
    "print(f\"running experiment {save_path} \\n\\n\")\n",
    "assert n_samples_expectation % batch_size == 0\n",
    "tester, history = run_experiment(dim, save_path, epochs, n_flow_steps, n_distributions,\n",
    "               flow_type, learnt_dist_kwargs=learnt_dist_kwargs, n_plots=n_plots,\n",
    "               batch_size=batch_size, n_samples_expectation=n_samples_expectation, problem=problem,\n",
    "               HMC_transition_args=HMC_transition_args, save=False,\n",
    "                                KPI_batch_size=KPI_batch_size)\n",
    "print(f\"\\n\\nfinished running experiment {save_path}\")"
   ]
  },
  {
   "cell_type": "code",
   "execution_count": null,
   "id": "a77a83f7",
   "metadata": {},
   "outputs": [],
   "source": [
    "from FittedModels.utils.model_utils import sample_and_log_w_big_batch_drop_nans"
   ]
  },
  {
   "cell_type": "code",
   "execution_count": null,
   "id": "aa6ed343",
   "metadata": {
    "scrolled": true
   },
   "outputs": [],
   "source": [
    "sample_and_log_w_big_batch_drop_nans(tester, n_samples=int(1e3), batch_size=int(1e2), AIS=False)[0].shape"
   ]
  },
  {
   "cell_type": "code",
   "execution_count": null,
   "id": "99303109",
   "metadata": {},
   "outputs": [],
   "source": [
    "from tqdm import tqdm\n",
    "def sample_energy(sample_and_log_w_func, n_samples=int(1e5), n_repeat=20, nbins=30):\n",
    "    # frorm histogram - used to estimate free energy differences (by clumping within histo we are aggregating)\n",
    "    hist_x = None\n",
    "    whist_x = None\n",
    "    hists_y = []\n",
    "    whists_y = []\n",
    "    for i in tqdm(range(n_repeat)):\n",
    "        y, log_totalweights = sample_and_log_w_func(n_samples)\n",
    "        samples = y[:, 0]\n",
    "        hist_y, edges = np.histogram(samples.detach().numpy(), bins=nbins, density=True)\n",
    "        hists_y.append(-np.log(hist_y))\n",
    "        hist_x = 0.5 * (edges[1:] + edges[:-1])\n",
    "        #\n",
    "        whist_y, edges = np.histogram(samples.detach().numpy(), bins=nbins, density=True,\n",
    "                                      weights=np.exp(log_totalweights.detach().numpy()))\n",
    "        whists_y.append(-np.log(whist_y))\n",
    "        whist_x = 0.5 * (edges[1:] + edges[:-1])\n",
    "\n",
    "    # align energies\n",
    "    for i in range(n_repeat):\n",
    "        hists_y[i] -= np.mean(hists_y[i][np.isfinite(hists_y[i])])\n",
    "        whists_y[i] -= np.mean(whists_y[i][np.isfinite(whists_y[i])])\n",
    "\n",
    "    return hist_x, hists_y, whist_x, whists_y"
   ]
  },
  {
   "cell_type": "code",
   "execution_count": null,
   "id": "0fc7a2cb",
   "metadata": {},
   "outputs": [],
   "source": [
    "from_flow = lambda n_samples: sample_and_log_w_big_batch_drop_nans(tester, n_samples=n_samples, batch_size=int(1e4), AIS=False)\n",
    "from_AIS = lambda n_samples: sample_and_log_w_big_batch_drop_nans(tester, n_samples=n_samples, batch_size=int(1e4), AIS=True) "
   ]
  },
  {
   "cell_type": "markdown",
   "id": "aa6cf8b7",
   "metadata": {},
   "source": [
    "## Let's look at flow plot"
   ]
  },
  {
   "cell_type": "code",
   "execution_count": null,
   "id": "0d1c460d",
   "metadata": {},
   "outputs": [],
   "source": [
    "hist_x, hists_y, whist_x, whists_y = sample_energy(from_flow, n_repeat=20, n_samples=int(1e5))"
   ]
  },
  {
   "cell_type": "code",
   "execution_count": null,
   "id": "faee92cf",
   "metadata": {},
   "outputs": [],
   "source": [
    "fig = plot_energy(target, hist_x, hists_y, whist_x, whists_y, ylabel=True, nstd=1.0)\n",
    "plt.text(-2, 12.5, 'some text', fontsize=16);"
   ]
  },
  {
   "cell_type": "markdown",
   "id": "1a219c15",
   "metadata": {
    "collapsed": true
   },
   "source": [
    "# And AIS plot"
   ]
  },
  {
   "cell_type": "code",
   "execution_count": null,
   "id": "81b48cd9",
   "metadata": {},
   "outputs": [],
   "source": [
    "hist_x, hists_y, whist_x, whists_y = sample_energy(from_AIS, n_repeat=20, n_samples=int(1e5))"
   ]
  },
  {
   "cell_type": "code",
   "execution_count": null,
   "id": "da726075",
   "metadata": {},
   "outputs": [],
   "source": [
    "fig = plot_energy(target, hist_x, hists_y, whist_x, whists_y, ylabel=True, nstd=1.0)\n",
    "#plt.text(-2, 12.5, 'some text', fontsize=16);"
   ]
  },
  {
   "cell_type": "markdown",
   "id": "71bd6b38",
   "metadata": {},
   "source": [
    "# Analyse Stats"
   ]
  },
  {
   "cell_type": "code",
   "execution_count": null,
   "id": "f0882176",
   "metadata": {},
   "outputs": [],
   "source": [
    "def bias_uncertainty(target_energy, x, energies, w_x, w_energies):\n",
    "    X = torch.Tensor(np.vstack([x, np.zeros((1, len(x)))]).T)\n",
    "    E_target = target_energy.energy(X)[:, 0]\n",
    "    E_target -= E_target.min()\n",
    "\n",
    "    # unweighted\n",
    "    E_mean = np.mean(energies, axis=0)\n",
    "    E_mean -= E_mean.min()\n",
    "\n",
    "    # weighted\n",
    "    Ew_mean = np.mean(w_energies, axis=0)\n",
    "    Ew_mean -= Ew_mean.min()\n",
    "\n",
    "    I = np.logical_and(x > -2.25, x < 2.25)\n",
    "    # bias\n",
    "    bias_unweighted = E_target - E_mean\n",
    "    bias_unweighted = bias_unweighted.detach().numpy()\n",
    "    J = np.isfinite(bias_unweighted)\n",
    "    bias_unweighted = np.abs(bias_unweighted[I*J].mean())\n",
    "    bias_reweighted = E_target - Ew_mean\n",
    "    bias_reweighted = bias_reweighted.detach().numpy()\n",
    "    J = np.isfinite(bias_reweighted)\n",
    "    bias_reweighted = np.abs(bias_reweighted[I*J].mean())\n",
    "    # uncertainty\n",
    "    std_unweighted = np.array(energies)[:, I*J].std(axis=0).mean()\n",
    "    std_reweighted = np.array(w_energies)[:, I*J].std(axis=0).mean()\n",
    "\n",
    "    return bias_unweighted, std_unweighted, bias_reweighted, std_reweighted"
   ]
  },
  {
   "cell_type": "code",
   "execution_count": null,
   "id": "b05b04f4",
   "metadata": {},
   "outputs": [],
   "source": [
    "hist_x.shape, hists_y[0].shape"
   ]
  },
  {
   "cell_type": "code",
   "execution_count": null,
   "id": "99e88cec",
   "metadata": {},
   "outputs": [],
   "source": [
    "bias, std, bias_w, std_w = bias_uncertainty(target, hist_x, hists_y, whist_x, whists_y)"
   ]
  },
  {
   "cell_type": "code",
   "execution_count": null,
   "id": "6a480d48",
   "metadata": {},
   "outputs": [],
   "source": [
    "bias, std, bias_w, std_w"
   ]
  },
  {
   "cell_type": "code",
   "execution_count": null,
   "id": "517c44e5",
   "metadata": {},
   "outputs": [],
   "source": [
    "target_energy, x, energies, w_x, w_energies = target, hist_x, hists_y, whist_x, whists_y\n",
    "X = torch.Tensor(np.vstack([x, np.zeros((1, len(x)))]).T)\n",
    "E_target = target_energy.energy(X)[:, 0]\n",
    "E_target -= E_target.min()\n",
    "\n",
    "# unweighted\n",
    "E_mean = np.mean(energies, axis=0)\n",
    "E_mean -= E_mean.min()\n",
    "\n",
    "# weighted\n",
    "Ew_mean = np.mean(w_energies, axis=0)\n",
    "Ew_mean -= Ew_mean.min()"
   ]
  },
  {
   "cell_type": "code",
   "execution_count": null,
   "id": "2902bdc9",
   "metadata": {},
   "outputs": [],
   "source": [
    "I = np.logical_and(x > -2.25, x < 2.25)\n",
    "# bias\n",
    "bias_unweighted = E_target - E_mean # for each of histogram zones"
   ]
  },
  {
   "cell_type": "code",
   "execution_count": null,
   "id": "2d878c0b",
   "metadata": {},
   "outputs": [],
   "source": [
    "bias_unweighted = bias_unweighted.detach().numpy()\n",
    "J = np.isfinite(bias_unweighted)\n",
    "bias_unweighted = np.abs(bias_unweighted[I*J].mean()) # average across dimensions to give scalar ()"
   ]
  },
  {
   "cell_type": "code",
   "execution_count": null,
   "id": "03f6a421",
   "metadata": {},
   "outputs": [],
   "source": [
    "bias_reweighted = E_target - Ew_mean\n",
    "bias_reweighted = bias_reweighted.detach().numpy()\n",
    "J = np.isfinite(bias_reweighted)\n",
    "bias_reweighted = np.abs(bias_reweighted[I*J].mean())\n",
    "# uncertainty\n",
    "std_unweighted = np.array(energies)[:, I*J].std(axis=0).mean()\n",
    "std_reweighted = np.array(w_energies)[:, I*J].std(axis=0).mean()"
   ]
  },
  {
   "cell_type": "code",
   "execution_count": 55,
   "id": "1dc0f33a",
   "metadata": {},
   "outputs": [
    {
     "data": {
      "text/plain": [
       "tensor([ 4.9244e+02,  3.3634e+02,  2.1937e+02,  1.3465e+02,  7.5641e+01,\n",
       "         3.7245e+01,  1.4847e+01,  4.0811e+00,  6.9292e-01,  1.4217e+00,\n",
       "         3.7669e+00,  6.2460e+00,  7.9811e+00,  8.3995e+00,  7.2537e+00,\n",
       "         4.7903e+00,  1.7516e+00, -1.8198e-01,  8.9406e-01,  8.5946e+00,\n",
       "         2.7266e+01,  6.0188e+01,  1.1157e+02,  1.8696e+02,  2.9238e+02,\n",
       "         4.3426e+02,  6.1949e+02,  8.5602e+02,        -inf,  1.5169e+03])"
      ]
     },
     "execution_count": 55,
     "metadata": {},
     "output_type": "execute_result"
    }
   ],
   "source": [
    "bias_unweighted"
   ]
  }
 ],
 "metadata": {
  "kernelspec": {
   "display_name": "Python 3",
   "language": "python",
   "name": "python3"
  },
  "language_info": {
   "codemirror_mode": {
    "name": "ipython",
    "version": 3
   },
   "file_extension": ".py",
   "mimetype": "text/x-python",
   "name": "python",
   "nbconvert_exporter": "python",
   "pygments_lexer": "ipython3",
   "version": "3.8.8"
  },
  "varInspector": {
   "cols": {
    "lenName": 16,
    "lenType": 16,
    "lenVar": 40
   },
   "kernels_config": {
    "python": {
     "delete_cmd_postfix": "",
     "delete_cmd_prefix": "del ",
     "library": "var_list.py",
     "varRefreshCmd": "print(var_dic_list())"
    },
    "r": {
     "delete_cmd_postfix": ") ",
     "delete_cmd_prefix": "rm(",
     "library": "var_list.r",
     "varRefreshCmd": "cat(var_dic_list()) "
    }
   },
   "types_to_exclude": [
    "module",
    "function",
    "builtin_function_or_method",
    "instance",
    "_Feature"
   ],
   "window_display": false
  }
 },
 "nbformat": 4,
 "nbformat_minor": 5
}
