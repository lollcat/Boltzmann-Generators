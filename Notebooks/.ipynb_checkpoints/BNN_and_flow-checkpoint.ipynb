{
 "cells": [
  {
   "cell_type": "code",
   "execution_count": 1,
   "id": "coral-banking",
   "metadata": {},
   "outputs": [],
   "source": [
    "from pathlib import Path\n",
    "import os\n",
    "cwd_path = Path.cwd(); set_path = str(cwd_path.parent); os.chdir(set_path)"
   ]
  },
  {
   "cell_type": "code",
   "execution_count": 2,
   "id": "posted-flesh",
   "metadata": {},
   "outputs": [],
   "source": [
    "import torch\n",
    "import matplotlib.pyplot as plt\n",
    "from FittedModels.utils import plot_distributions\n",
    "torch.manual_seed(5)\n",
    "from ImportanceSampling.VanillaImportanceSampler import VanillaImportanceSampling\n",
    "from TargetDistributions.BayesianNN import PosteriorBNN\n",
    "from FittedModels.Models.FlowModel import FlowModel\n",
    "from FittedModels.utils import plot_distributions\n",
    "from FittedModels.train import LearntDistributionManager\n",
    "from Utils import plot_func2D, MC_estimate_true_expectation"
   ]
  },
  {
   "cell_type": "markdown",
   "id": "extraordinary-delta",
   "metadata": {},
   "source": [
    "### Expectation Function"
   ]
  },
  {
   "cell_type": "code",
   "execution_count": 3,
   "id": "compliant-daily",
   "metadata": {},
   "outputs": [],
   "source": [
    "def expectation_function(x):\n",
    "    A = torch.ones((x.shape[-1], x.shape[-1]))\n",
    "    return torch.einsum(\"bi,ij,bj->b\", x, A, x)"
   ]
  },
  {
   "cell_type": "markdown",
   "id": "hybrid-recorder",
   "metadata": {},
   "source": [
    "# Specifiy target distribution and key param"
   ]
  },
  {
   "cell_type": "code",
   "execution_count": 4,
   "id": "adopted-september",
   "metadata": {},
   "outputs": [],
   "source": [
    "epochs = 50\n",
    "n_samples_estimation = int(1e4)\n",
    "target = PosteriorBNN(n_datapoints=10, x_dim=2, y_dim=2, n_hidden_layers=2, layer_width=5)\n",
    "dim = target.n_parameters"
   ]
  },
  {
   "cell_type": "markdown",
   "id": "eight-middle",
   "metadata": {},
   "source": [
    "# DReG\n",
    "Let's instantiate a flow based model, and train using DReG"
   ]
  },
  {
   "cell_type": "code",
   "execution_count": 6,
   "id": "polish-overhead",
   "metadata": {},
   "outputs": [],
   "source": [
    "learnt_sampler = FlowModel(x_dim=dim)\n",
    "tester = LearntDistributionManager(target, learnt_sampler, VanillaImportanceSampling, loss_type=\"DReG\")\n",
    "expectation_before, sampling_weights_before = tester.estimate_expectation(n_samples_estimation, expectation_function)"
   ]
  },
  {
   "cell_type": "code",
   "execution_count": 7,
   "id": "honest-blair",
   "metadata": {},
   "outputs": [
    {
     "name": "stderr",
     "output_type": "stream",
     "text": [
      "loss: -403.1826477050781:  50%|████████████████████████████████████████████████████████████                                                            | 25/50 [00:09<00:09,  2.63it/s]\n"
     ]
    },
    {
     "ename": "Exception",
     "evalue": "NaN loss encountered",
     "output_type": "error",
     "traceback": [
      "\u001b[1;31m---------------------------------------------------------------------------\u001b[0m",
      "\u001b[1;31mException\u001b[0m                                 Traceback (most recent call last)",
      "\u001b[1;32m<ipython-input-7-bcb41e5ee55e>\u001b[0m in \u001b[0;36m<module>\u001b[1;34m\u001b[0m\n\u001b[1;32m----> 1\u001b[1;33m \u001b[0mhistory\u001b[0m \u001b[1;33m=\u001b[0m \u001b[0mtester\u001b[0m\u001b[1;33m.\u001b[0m\u001b[0mtrain\u001b[0m\u001b[1;33m(\u001b[0m\u001b[0mepochs\u001b[0m\u001b[1;33m,\u001b[0m \u001b[0mbatch_size\u001b[0m\u001b[1;33m=\u001b[0m\u001b[1;36m100\u001b[0m\u001b[1;33m)\u001b[0m\u001b[1;33m\u001b[0m\u001b[1;33m\u001b[0m\u001b[0m\n\u001b[0m\u001b[0;32m      2\u001b[0m \u001b[0mexpectation\u001b[0m\u001b[1;33m,\u001b[0m \u001b[0minfo\u001b[0m \u001b[1;33m=\u001b[0m \u001b[0mtester\u001b[0m\u001b[1;33m.\u001b[0m\u001b[0mestimate_expectation\u001b[0m\u001b[1;33m(\u001b[0m\u001b[0mn_samples_estimation\u001b[0m\u001b[1;33m,\u001b[0m \u001b[0mexpectation_function\u001b[0m\u001b[1;33m)\u001b[0m\u001b[1;33m\u001b[0m\u001b[1;33m\u001b[0m\u001b[0m\n\u001b[0;32m      3\u001b[0m \u001b[1;33m\u001b[0m\u001b[0m\n\u001b[0;32m      4\u001b[0m print(f\"estimate before training is {expectation_before} \\n\"\n\u001b[0;32m      5\u001b[0m       \u001b[1;34mf\"estimate after training is {expectation} \\n\"\u001b[0m\u001b[1;33m\u001b[0m\u001b[1;33m\u001b[0m\u001b[0m\n",
      "\u001b[1;32mD:\\Documents\\Work\\2020\\Cambridge MLMI\\MLMI\\Thesis\\CODE\\ToyProblems\\FittedModels\\train.py\u001b[0m in \u001b[0;36mtrain\u001b[1;34m(self, epochs, batch_size)\u001b[0m\n\u001b[0;32m     39\u001b[0m             \u001b[0mloss\u001b[0m \u001b[1;33m=\u001b[0m \u001b[0mself\u001b[0m\u001b[1;33m.\u001b[0m\u001b[0mloss\u001b[0m\u001b[1;33m(\u001b[0m\u001b[0mlog_q_x\u001b[0m\u001b[1;33m,\u001b[0m \u001b[0mlog_p_x\u001b[0m\u001b[1;33m)\u001b[0m\u001b[1;33m\u001b[0m\u001b[1;33m\u001b[0m\u001b[0m\n\u001b[0;32m     40\u001b[0m             \u001b[1;32mif\u001b[0m \u001b[0mtorch\u001b[0m\u001b[1;33m.\u001b[0m\u001b[0misnan\u001b[0m\u001b[1;33m(\u001b[0m\u001b[0mloss\u001b[0m\u001b[1;33m)\u001b[0m\u001b[1;33m:\u001b[0m\u001b[1;33m\u001b[0m\u001b[1;33m\u001b[0m\u001b[0m\n\u001b[1;32m---> 41\u001b[1;33m                 \u001b[1;32mraise\u001b[0m \u001b[0mException\u001b[0m\u001b[1;33m(\u001b[0m\u001b[1;34m\"NaN loss encountered\"\u001b[0m\u001b[1;33m)\u001b[0m\u001b[1;33m\u001b[0m\u001b[1;33m\u001b[0m\u001b[0m\n\u001b[0m\u001b[0;32m     42\u001b[0m             \u001b[0mloss\u001b[0m\u001b[1;33m.\u001b[0m\u001b[0mbackward\u001b[0m\u001b[1;33m(\u001b[0m\u001b[1;33m)\u001b[0m\u001b[1;33m\u001b[0m\u001b[1;33m\u001b[0m\u001b[0m\n\u001b[0;32m     43\u001b[0m             \u001b[0mself\u001b[0m\u001b[1;33m.\u001b[0m\u001b[0moptimizer\u001b[0m\u001b[1;33m.\u001b[0m\u001b[0mstep\u001b[0m\u001b[1;33m(\u001b[0m\u001b[1;33m)\u001b[0m\u001b[1;33m\u001b[0m\u001b[1;33m\u001b[0m\u001b[0m\n",
      "\u001b[1;31mException\u001b[0m: NaN loss encountered"
     ]
    }
   ],
   "source": [
    "history = tester.train(epochs, batch_size=100)\n",
    "expectation, info = tester.estimate_expectation(n_samples_estimation, expectation_function)\n",
    "\n",
    "print(f\"estimate before training is {expectation_before} \\n\"\n",
    "      f\"estimate after training is {expectation} \\n\" \n",
    "     f\"effective sample size is {info['effective_sample_size']} \\n\"\n",
    "     f\"variance in weights is {torch.var(info['normalised_sampling_weights'])}\")"
   ]
  },
  {
   "cell_type": "code",
   "execution_count": 8,
   "id": "noble-charlotte",
   "metadata": {},
   "outputs": [
    {
     "ename": "NameError",
     "evalue": "name 'info' is not defined",
     "output_type": "error",
     "traceback": [
      "\u001b[1;31m---------------------------------------------------------------------------\u001b[0m",
      "\u001b[1;31mNameError\u001b[0m                                 Traceback (most recent call last)",
      "\u001b[1;32m<ipython-input-8-bf0b4409d35c>\u001b[0m in \u001b[0;36m<module>\u001b[1;34m\u001b[0m\n\u001b[1;32m----> 1\u001b[1;33m \u001b[0mplt\u001b[0m\u001b[1;33m.\u001b[0m\u001b[0mviolinplot\u001b[0m\u001b[1;33m(\u001b[0m\u001b[1;33m[\u001b[0m\u001b[0minfo\u001b[0m\u001b[1;33m[\u001b[0m\u001b[1;34m'normalised_sampling_weights'\u001b[0m\u001b[1;33m]\u001b[0m\u001b[1;33m]\u001b[0m\u001b[1;33m)\u001b[0m\u001b[1;33m\u001b[0m\u001b[1;33m\u001b[0m\u001b[0m\n\u001b[0m\u001b[0;32m      2\u001b[0m \u001b[0mplt\u001b[0m\u001b[1;33m.\u001b[0m\u001b[0myscale\u001b[0m\u001b[1;33m(\u001b[0m\u001b[1;34m\"log\"\u001b[0m\u001b[1;33m)\u001b[0m\u001b[1;33m\u001b[0m\u001b[1;33m\u001b[0m\u001b[0m\n",
      "\u001b[1;31mNameError\u001b[0m: name 'info' is not defined"
     ]
    }
   ],
   "source": [
    "plt.violinplot([info['normalised_sampling_weights']])\n",
    "plt.yscale(\"log\")"
   ]
  },
  {
   "cell_type": "code",
   "execution_count": 17,
   "id": "requested-irrigation",
   "metadata": {},
   "outputs": [
    {
     "data": {
      "text/plain": [
       "[<matplotlib.lines.Line2D at 0x27e2adee0d0>]"
      ]
     },
     "execution_count": 17,
     "metadata": {},
     "output_type": "execute_result"
    },
    {
     "data": {
      "image/png": "[encoded data removed]",
      "text/plain": [
       "<Figure size 432x288 with 1 Axes>"
      ]
     },
     "metadata": {
      "needs_background": "light"
     },
     "output_type": "display_data"
    }
   ],
   "source": [
    "plt.plot(history[\"loss\"])"
   ]
  },
  {
   "cell_type": "markdown",
   "id": "instant-designer",
   "metadata": {},
   "source": [
    "# KL"
   ]
  },
  {
   "cell_type": "code",
   "execution_count": 18,
   "id": "synthetic-butter",
   "metadata": {},
   "outputs": [],
   "source": [
    "learnt_sampler = FlowModel(x_dim=dim)\n",
    "tester = LearntDistributionManager(target, learnt_sampler, VanillaImportanceSampling, loss_type=\"kl\")\n",
    "expectation_before, sampling_weights_before = tester.estimate_expectation(n_samples_estimation, expectation_function)"
   ]
  },
  {
   "cell_type": "code",
   "execution_count": 19,
   "id": "three-buyer",
   "metadata": {},
   "outputs": [
    {
     "name": "stderr",
     "output_type": "stream",
     "text": [
      "loss: 374.9189758300781: 100%|█████████████████████████████████████████████████████████████████████████████████████████████████████████████████████████| 10/10 [00:22<00:00,  2.28s/it]\n"
     ]
    },
    {
     "name": "stdout",
     "output_type": "stream",
     "text": [
      "estimate before training is 9.838452339172363 \n",
      "estimate after training is 17.517335891723633 \n",
      "effective sample size is 4.589569568634033 \n",
      "variance in weights is 2.178071008529514e-05\n"
     ]
    }
   ],
   "source": [
    "history = tester.train(epochs)\n",
    "expectation, info = tester.estimate_expectation(n_samples_estimation, expectation_function)\n",
    "\n",
    "print(f\"estimate before training is {expectation_before} \\n\"\n",
    "      f\"estimate after training is {expectation} \\n\" \n",
    "     f\"effective sample size is {info['effective_sample_size']} \\n\"\n",
    "     f\"variance in weights is {torch.var(info['normalised_sampling_weights'])}\")"
   ]
  },
  {
   "cell_type": "code",
   "execution_count": 20,
   "id": "reverse-potter",
   "metadata": {},
   "outputs": [
    {
     "data": {
      "image/png": "[encoded data removed]",
      "text/plain": [
       "<Figure size 432x288 with 1 Axes>"
      ]
     },
     "metadata": {
      "needs_background": "light"
     },
     "output_type": "display_data"
    }
   ],
   "source": [
    "plt.violinplot([info['normalised_sampling_weights']])\n",
    "plt.yscale(\"log\")"
   ]
  },
  {
   "cell_type": "code",
   "execution_count": 21,
   "id": "terminal-dictionary",
   "metadata": {},
   "outputs": [
    {
     "data": {
      "text/plain": [
       "[<matplotlib.lines.Line2D at 0x27e29345100>]"
      ]
     },
     "execution_count": 21,
     "metadata": {},
     "output_type": "execute_result"
    },
    {
     "data": {
      "image/png": "[encoded data removed]",
      "text/plain": [
       "<Figure size 432x288 with 1 Axes>"
      ]
     },
     "metadata": {
      "needs_background": "light"
     },
     "output_type": "display_data"
    }
   ],
   "source": [
    "plt.plot(history[\"loss\"])"
   ]
  },
  {
   "cell_type": "code",
   "execution_count": null,
   "id": "talented-royalty",
   "metadata": {},
   "outputs": [],
   "source": []
  }
 ],
 "metadata": {
  "kernelspec": {
   "display_name": "Python 3",
   "language": "python",
   "name": "python3"
  },
  "language_info": {
   "codemirror_mode": {
    "name": "ipython",
    "version": 3
   },
   "file_extension": ".py",
   "mimetype": "text/x-python",
   "name": "python",
   "nbconvert_exporter": "python",
   "pygments_lexer": "ipython3",
   "version": "3.8.5"
  }
 },
 "nbformat": 4,
 "nbformat_minor": 5
}
