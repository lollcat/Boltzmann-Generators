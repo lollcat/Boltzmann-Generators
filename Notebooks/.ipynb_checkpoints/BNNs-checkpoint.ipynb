{
 "cells": [
  {
   "cell_type": "code",
   "execution_count": 1,
   "id": "c61cb40f",
   "metadata": {},
   "outputs": [],
   "source": [
    "from pathlib import Path\n",
    "import os\n",
    "cwd_path = Path.cwd(); set_path = str(cwd_path.parent); os.chdir(set_path)"
   ]
  },
  {
   "cell_type": "code",
   "execution_count": 2,
   "id": "631d595d",
   "metadata": {},
   "outputs": [],
   "source": [
    "from TargetDistributions.Fast_BNN import FastPosteriorBNN\n",
    "import torch"
   ]
  },
  {
   "cell_type": "markdown",
   "id": "3a4f2255",
   "metadata": {},
   "source": [
    "# 2 Dim"
   ]
  },
  {
   "cell_type": "code",
   "execution_count": null,
   "id": "f05b464f",
   "metadata": {},
   "outputs": [],
   "source": [
    "posterior_bnn = FastPosteriorBNN(n_datapoints=2, x_dim=1, y_dim=1, n_hidden_layers=0, layer_width=0\n",
    "                             , linear_activations=False, fixed_variance=True, use_bias=True)\n",
    "\n",
    "assert posterior_bnn.n_parameters == 2\n",
    "from Utils.plotting_utils import plot_distribution\n",
    "import matplotlib.pyplot as plt\n",
    "\n",
    "plot_distribution(posterior_bnn, n_points=100)\n",
    "plt.show()"
   ]
  },
  {
   "cell_type": "code",
   "execution_count": null,
   "id": "fd335b64",
   "metadata": {
    "scrolled": true
   },
   "outputs": [],
   "source": [
    "posterior_bnn = FastPosteriorBNN(n_datapoints=10, x_dim=1, y_dim=1, n_hidden_layers=0, layer_width=0\n",
    "                             , linear_activations=False, fixed_variance=True, use_bias=True, \n",
    "                                 linear_activations_output=False)\n",
    "\n",
    "assert posterior_bnn.n_parameters == 2\n",
    "from Utils.plotting_utils import plot_distribution\n",
    "import matplotlib.pyplot as plt\n",
    "\n",
    "plot_distribution(posterior_bnn, n_points=100)\n",
    "plt.show()"
   ]
  },
  {
   "cell_type": "code",
   "execution_count": null,
   "id": "def31844",
   "metadata": {},
   "outputs": [],
   "source": [
    "posterior_bnn = FastPosteriorBNN(n_datapoints=10, x_dim=1, y_dim=2, n_hidden_layers=0, layer_width=0\n",
    "                             , linear_activations=False, fixed_variance=True, use_bias=False, \n",
    "                                 linear_activations_output=False)\n",
    "\n",
    "assert posterior_bnn.n_parameters == 2\n",
    "from Utils.plotting_utils import plot_distribution\n",
    "import matplotlib.pyplot as plt\n",
    "\n",
    "plot_distribution(posterior_bnn, n_points=100)\n",
    "plt.show()"
   ]
  },
  {
   "cell_type": "markdown",
   "id": "47e13675",
   "metadata": {},
   "source": [
    "# More Dim"
   ]
  },
  {
   "cell_type": "code",
   "execution_count": 4,
   "id": "b40b1aa2",
   "metadata": {},
   "outputs": [
    {
     "name": "stdout",
     "output_type": "stream",
     "text": [
      "17\n"
     ]
    }
   ],
   "source": [
    "posterior_bnn = FastPosteriorBNN(n_datapoints=10, x_dim=2, y_dim=2, n_hidden_layers=1, layer_width=3,\n",
    "                             fixed_variance=True)\n",
    "print(posterior_bnn.model.n_parameters)"
   ]
  },
  {
   "cell_type": "code",
   "execution_count": null,
   "id": "172d3e3f",
   "metadata": {},
   "outputs": [],
   "source": [
    "for _ in range(5):\n",
    "    samples_w = torch.randn(posterior_bnn.model.n_parameters)\n",
    "    print(posterior_bnn.log_prob(samples_w))"
   ]
  }
 ],
 "metadata": {
  "kernelspec": {
   "display_name": "Python 3",
   "language": "python",
   "name": "python3"
  },
  "language_info": {
   "codemirror_mode": {
    "name": "ipython",
    "version": 3
   },
   "file_extension": ".py",
   "mimetype": "text/x-python",
   "name": "python",
   "nbconvert_exporter": "python",
   "pygments_lexer": "ipython3",
   "version": "3.8.8"
  },
  "varInspector": {
   "cols": {
    "lenName": 16,
    "lenType": 16,
    "lenVar": 40
   },
   "kernels_config": {
    "python": {
     "delete_cmd_postfix": "",
     "delete_cmd_prefix": "del ",
     "library": "var_list.py",
     "varRefreshCmd": "print(var_dic_list())"
    },
    "r": {
     "delete_cmd_postfix": ") ",
     "delete_cmd_prefix": "rm(",
     "library": "var_list.r",
     "varRefreshCmd": "cat(var_dic_list()) "
    }
   },
   "types_to_exclude": [
    "module",
    "function",
    "builtin_function_or_method",
    "instance",
    "_Feature"
   ],
   "window_display": false
  }
 },
 "nbformat": 4,
 "nbformat_minor": 5
}
