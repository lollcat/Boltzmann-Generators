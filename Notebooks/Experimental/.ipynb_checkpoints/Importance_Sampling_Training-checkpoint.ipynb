{
 "cells": [
  {
   "cell_type": "code",
   "execution_count": 1,
   "id": "spread-links",
   "metadata": {},
   "outputs": [],
   "source": [
    "from pathlib import Path\n",
    "import os\n",
    "cwd_path = Path.cwd(); set_path = str(cwd_path.parent.parent); os.chdir(set_path)"
   ]
  },
  {
   "cell_type": "code",
   "execution_count": 2,
   "id": "5bdec23b",
   "metadata": {
    "scrolled": true
   },
   "outputs": [],
   "source": [
    "%load_ext autoreload\n",
    "%autoreload 2"
   ]
  },
  {
   "cell_type": "code",
   "execution_count": 3,
   "id": "91a4b6e6",
   "metadata": {},
   "outputs": [],
   "source": [
    "%reload_ext autoreload"
   ]
  },
  {
   "cell_type": "code",
   "execution_count": 6,
   "id": "cutting-manufacturer",
   "metadata": {},
   "outputs": [],
   "source": [
    "from FittedModels.Models.FlowModel import FlowModel\n",
    "from FittedModels.AIS_train.train_AIS import AIS_trainer\n",
    "from ImportanceSampling.VanillaImportanceSampler import VanillaImportanceSampling\n",
    "from FittedModels.utils.plotting_utils import plot_history, plot_distributions, plot_samples\n",
    "import matplotlib.pyplot as plt\n",
    "import torch\n",
    "from TargetDistributions.MoG import MoG\n",
    "from Utils.plotting_utils import plot_func2D, plot_distribution\n",
    "from Utils.numerical_utils import MC_estimate_true_expectation\n",
    "from Utils.numerical_utils import quadratic_function as expectation_function\n",
    "torch.set_default_dtype(torch.float64)"
   ]
  },
  {
   "cell_type": "markdown",
   "id": "taken-kenya",
   "metadata": {},
   "source": [
    "# Specifiy target distribution and key param"
   ]
  },
  {
   "cell_type": "markdown",
   "id": "9c753ee7",
   "metadata": {},
   "source": [
    "## MoG"
   ]
  },
  {
   "cell_type": "code",
   "execution_count": 7,
   "id": "c95d8cd8",
   "metadata": {},
   "outputs": [
    {
     "name": "stdout",
     "output_type": "stream",
     "text": [
      "tensor(51.6871)\n"
     ]
    }
   ],
   "source": [
    "torch.manual_seed(2)\n",
    "epochs = 500\n",
    "dim = 6\n",
    "n_samples_estimation = int(1e4)\n",
    "target = MoG(dim=dim, n_mixes=10, min_cov=1, loc_scaling=5)\n",
    "true_expectation = MC_estimate_true_expectation(target, expectation_function, int(1e6))\n",
    "print(true_expectation)\n",
    "if dim == 2:\n",
    "    fig = plot_distribution(target, bounds=[[-30, 20], [-20, 20]])"
   ]
  },
  {
   "cell_type": "markdown",
   "id": "neutral-aircraft",
   "metadata": {},
   "source": [
    "# Setup AIS training"
   ]
  },
  {
   "cell_type": "code",
   "execution_count": 8,
   "id": "appropriate-consortium",
   "metadata": {},
   "outputs": [],
   "source": [
    "learnt_sampler = FlowModel(x_dim=dim, scaling_factor=5.0, flow_type=\"RealNVP\", n_flow_steps=60)\n",
    "tester = AIS_trainer(target, learnt_sampler, loss_type=\"kl\", n_distributions=20, n_updates_Metropolis=3,\n",
    "                    noise_scaling=1.0)"
   ]
  },
  {
   "cell_type": "markdown",
   "id": "43db4691",
   "metadata": {},
   "source": [
    "### Visualisation before training\n",
    "Let's look at the effective sample size before training of vanilla IS vs annealed IS"
   ]
  },
  {
   "cell_type": "code",
   "execution_count": 9,
   "id": "2145e5eb",
   "metadata": {},
   "outputs": [],
   "source": [
    "n_samples_expectation = int(1e6)\n",
    "n_samples=int(1e3)"
   ]
  },
  {
   "cell_type": "code",
   "execution_count": null,
   "id": "17bef55c",
   "metadata": {},
   "outputs": [],
   "source": [
    "vanilla_IS = VanillaImportanceSampling(sampling_distribution=learnt_sampler, target_distribution=target)\n",
    "with torch.no_grad():\n",
    "    expectation_vanilla, info_dict_vanilla = \\\n",
    "    vanilla_IS.calculate_expectation(n_samples_expectation, expectation_function=expectation_function)\n",
    "print(f\"true expectation is {true_expectation}, estimated expectation is {expectation_vanilla}\")\n",
    "print(f\"ESS is {info_dict_vanilla['effective_sample_size']/n_samples_expectation}, \\\n",
    "      var is {torch.var(info_dict_vanilla['normalised_sampling_weights'])}\")"
   ]
  },
  {
   "cell_type": "code",
   "execution_count": null,
   "id": "b7cc8688",
   "metadata": {},
   "outputs": [],
   "source": [
    "with torch.no_grad():\n",
    "    expectation, info_dict = tester.AIS_train.calculate_expectation(n_samples_expectation,\n",
    "                                                                    expectation_function=expectation_function)\n",
    "print(f\"true expectation is {true_expectation}, estimated expectation is {expectation}\")\n",
    "print(\n",
    "    f\"ESS is {info_dict['effective_sample_size'] / n_samples_expectation}, \"\n",
    "    f\"var is {torch.var(info_dict['normalised_sampling_weights'])}\")\n",
    "\n",
    "plt.figure()\n",
    "learnt_dist_samples = learnt_sampler.sample((n_samples,)).cpu().detach()\n",
    "plt.scatter(learnt_dist_samples[:, 0], learnt_dist_samples[:, 1])\n",
    "plt.title(\"approximating distribution samples\")\n",
    "plt.show()\n",
    "plt.figure()\n",
    "plt.scatter(info_dict[\"samples\"][:, 0].cpu(), info_dict[\"samples\"][:, 1].cpu())\n",
    "plt.title(\"annealed samples\")\n",
    "plt.show()\n",
    "plt.figure()\n",
    "true_samples = target.sample((n_samples,)).cpu().detach()\n",
    "plt.scatter(true_samples[:, 0], true_samples[:, 1])\n",
    "plt.title(\"true samples\")\n",
    "plt.show()"
   ]
  },
  {
   "cell_type": "code",
   "execution_count": null,
   "id": "6fde586c",
   "metadata": {},
   "outputs": [],
   "source": [
    "plot_samples(tester)"
   ]
  },
  {
   "cell_type": "markdown",
   "id": "6763fdcb",
   "metadata": {},
   "source": [
    "# Now let's train"
   ]
  },
  {
   "cell_type": "code",
   "execution_count": null,
   "id": "4bab2821",
   "metadata": {
    "scrolled": true
   },
   "outputs": [],
   "source": [
    "history = tester.train(50, batch_size=1000, intermediate_plots=True, n_plots=30)"
   ]
  },
  {
   "cell_type": "code",
   "execution_count": null,
   "id": "clinical-christian",
   "metadata": {},
   "outputs": [],
   "source": [
    "plot_history(history)"
   ]
  },
  {
   "cell_type": "code",
   "execution_count": null,
   "id": "e442f55f",
   "metadata": {},
   "outputs": [],
   "source": [
    "plot_samples(tester)"
   ]
  },
  {
   "cell_type": "code",
   "execution_count": null,
   "id": "tamil-ridge",
   "metadata": {
    "hidden": true
   },
   "outputs": [],
   "source": []
  },
  {
   "cell_type": "code",
   "execution_count": null,
   "id": "d211ecec",
   "metadata": {},
   "outputs": [],
   "source": []
  }
 ],
 "metadata": {
  "kernelspec": {
   "display_name": "Python 3",
   "language": "python",
   "name": "python3"
  },
  "language_info": {
   "codemirror_mode": {
    "name": "ipython",
    "version": 3
   },
   "file_extension": ".py",
   "mimetype": "text/x-python",
   "name": "python",
   "nbconvert_exporter": "python",
   "pygments_lexer": "ipython3",
   "version": "3.8.10"
  },
  "varInspector": {
   "cols": {
    "lenName": 16,
    "lenType": 16,
    "lenVar": 40
   },
   "kernels_config": {
    "python": {
     "delete_cmd_postfix": "",
     "delete_cmd_prefix": "del ",
     "library": "var_list.py",
     "varRefreshCmd": "print(var_dic_list())"
    },
    "r": {
     "delete_cmd_postfix": ") ",
     "delete_cmd_prefix": "rm(",
     "library": "var_list.r",
     "varRefreshCmd": "cat(var_dic_list()) "
    }
   },
   "types_to_exclude": [
    "module",
    "function",
    "builtin_function_or_method",
    "instance",
    "_Feature"
   ],
   "window_display": false
  }
 },
 "nbformat": 4,
 "nbformat_minor": 5
}
